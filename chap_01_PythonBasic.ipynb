{
 "cells": [
  {
   "attachments": {},
   "cell_type": "markdown",
   "metadata": {},
   "source": [
    "# 1: Python基础\n",
    "\n",
    "<a href=\"https://nb.bohrium.dp.tech/detail/3613546846?utm_source=ck-github\" target=\"_blank\"><img src=\"https://cdn.dp.tech/bohrium/web/static/images/open-in-bohrium.svg\" alt=\"Open In Bohrium\"/></a>"
   ]
  },
  {
   "attachments": {},
   "cell_type": "markdown",
   "metadata": {},
   "source": [
    "## 1.1 数字\n",
    "### 1.1.1 基本算术\n",
    "\n",
    "在某种程度上，Python是一个非常强大的计算器，可以执行基本算术和高级数学计算。Python包括一些基本的数学运算符，如下表所示。\n",
    "\n",
    "**表 1** Python 数学运算符\n",
    "| 运算符 | 描述 | 实例 |\n",
    "| :-------:| :---------: | :------: |\n",
    "| +  | 加 | 10 + 20 输出结果 30 |\n",
    "| - | 减 | 10 - 20 输出结果 -10 |\n",
    "| * | 乘 | 10 * 20 输出结果 200 |\n",
    "| / | 除 | 3 / 2 输出结果 1.5 |\n",
    "| % | 取模 - 返回除法的余数 | 20 % 10 输出结果 0 |\n",
    "| // | 取整除 - 返回商的整数部分（向下取整） | 9//2 输出结果 4, -9//2 输出结果 -5 |\n",
    "| ** | 幂 | 2**3 输出结果 8 |\n",
    "\n",
    "加减乘除运算符的工作方式与大多数数学课中的相同，还可以通过括号改变运算的顺序"
   ]
  },
  {
   "cell_type": "code",
   "execution_count": null,
   "metadata": {},
   "outputs": [],
   "source": [
    "8 + 3 * 2"
   ]
  },
  {
   "cell_type": "code",
   "execution_count": null,
   "metadata": {},
   "outputs": [],
   "source": [
    "(8 + 3) * 2"
   ]
  },
  {
   "attachments": {},
   "cell_type": "markdown",
   "metadata": {},
   "source": [
    "如上单元格，Python不关心一行中的空格，所以可以随意添加空格，使计算更具可读性。然而，Python确实关心一行的*开头*处的空格，这将在后面讨论。"
   ]
  },
  {
   "attachments": {},
   "cell_type": "markdown",
   "metadata": {},
   "source": [
    "### 1.1.2 整数 & 浮点数\n",
    "\n",
    "Python中有两种类型的数字——浮点数和整数。浮点数可以是整数值，也可以是非整数值，例如3.0或1.2；整数则没有小数点，如2或53。"
   ]
  },
  {
   "cell_type": "code",
   "execution_count": null,
   "metadata": {},
   "outputs": [],
   "source": [
    "# 只包含整数并计算为整数的数学运算将生成整数\n",
    "3 + 8"
   ]
  },
  {
   "cell_type": "code",
   "execution_count": null,
   "metadata": {},
   "outputs": [],
   "source": [
    "# 由于其中一个输入是浮点数，所以生成了浮点数\n",
    "3.0 + 8"
   ]
  },
  {
   "cell_type": "code",
   "execution_count": null,
   "metadata": {},
   "outputs": [],
   "source": [
    "# 尽管输入中只有整数，但仍会生成浮点值，因为运算的计算结果为分数\n",
    "2 / 5"
   ]
  },
  {
   "attachments": {},
   "cell_type": "markdown",
   "metadata": {},
   "source": [
    "整数和浮点数可以通过 `int()` 和 `float()` 方法进行转化."
   ]
  },
  {
   "cell_type": "code",
   "execution_count": null,
   "metadata": {},
   "outputs": [],
   "source": [
    "int(3.0)"
   ]
  },
  {
   "cell_type": "code",
   "execution_count": null,
   "metadata": {},
   "outputs": [],
   "source": [
    "float(4)"
   ]
  },
  {
   "attachments": {},
   "cell_type": "markdown",
   "metadata": {},
   "source": [
    "### 1.1.3 Python 函数\n",
    "\n",
    "除了基本的数学运算符外，Python还包含许多函数。在数学中，函数有一个名称（例如$f$），参数放在名称后面的括号内。*自变量*是输入函数的任何值或信息。在下面的情况下，$f$需要一个参数“x”。\n",
    "\n",
    "$$ f(x) $$\n",
    "\n",
    "Python中有许多有用的数学函数，表2描述了一些常见的函数，如绝对值`abs()`和`round()`函数。请注意，`round()`函数使用银行家四舍五入-如果一个数字在两个整数（例如4.5）之间的一半，它将向偶数整数（即4）四舍五进。"
   ]
  },
  {
   "cell_type": "code",
   "execution_count": null,
   "metadata": {},
   "outputs": [],
   "source": [
    "abs(-4)"
   ]
  },
  {
   "cell_type": "code",
   "execution_count": null,
   "metadata": {},
   "outputs": [],
   "source": [
    "round(3.5)"
   ]
  },
  {
   "cell_type": "code",
   "execution_count": null,
   "metadata": {},
   "outputs": [],
   "source": [
    "round(4.5)"
   ]
  },
  {
   "attachments": {},
   "cell_type": "markdown",
   "metadata": {},
   "source": [
    "**表 2** 常见函数\n",
    "\n",
    "| 函数 | 说明 |\n",
    "| :------: | :--------   |\n",
    "|`abs(x)`   | 返回x的绝对值 |\n",
    "| `float(x)`| 转换x到浮点型 |\n",
    "|` int(x)`  | 转换x到整型 |\n",
    "| `len(x) ` | 返回x的长度 |\n",
    "| `list(x)` | 转换元组x到列表 |\n",
    "| `max(x, y, z, .... )`  | 返回给定参数的最大值 |\n",
    "| `min(x, y, z, .... )`  | 返回给定参数的最小值 |\n",
    "| `open(name[, mode[, buffering]])` | 打开文件，创建file对象   |\n",
    "| `print(*objects, sep=' ', end='\\n', file=sys.stdout, flush=False)`| 打印输出  |\n",
    "|`round(x [, n]) `| 返回浮点数x的四舍五入值 |\n",
    "| `str(x)`  | 转换x为字符串 |\n",
    "| `sum(iterable[, start])`  | 对序列进行求和计算 |\n",
    "| `tuple(x)`| 将列表x转换为元组 |\n",
    "| `type(x)` | 返回x的类型 |\n",
    "| `zip([iterable, ...])`  | 将对象中对应的元素打包成一个个元组，然后返回由这些元组组成的列表 |"
   ]
  },
  {
   "attachments": {},
   "cell_type": "markdown",
   "metadata": {},
   "source": [
    "除了Python的原生函数集合外，Python还包含一个具有更多数学函数的`math`模块。将模块视为Python的附加组件或工具包。每次安装Python时都会附带`math`模块，并通过使用`import math`命令导入（即将其加载到内存中）来激活该模块。导入模块后，将使用`math.function()`调用模块中的任何函数，其中`function`是函数的名称。例如，`math`包含用于获取值的平方根的函数`sqrt()`。"
   ]
  },
  {
   "cell_type": "code",
   "execution_count": null,
   "metadata": {},
   "outputs": [],
   "source": [
    "import math\n",
    "math.sqrt(4)"
   ]
  },
  {
   "attachments": {},
   "cell_type": "markdown",
   "metadata": {},
   "source": [
    "表3列出了`math`模块中一些常用的函数，下面显示了一些示例。有趣的是，有些函数只是提供了一个数学常数。"
   ]
  },
  {
   "cell_type": "code",
   "execution_count": null,
   "metadata": {},
   "outputs": [],
   "source": [
    "math.ceil(4.3)"
   ]
  },
  {
   "cell_type": "code",
   "execution_count": null,
   "metadata": {},
   "outputs": [],
   "source": [
    "math.pi"
   ]
  },
  {
   "cell_type": "code",
   "execution_count": null,
   "metadata": {},
   "outputs": [],
   "source": [
    "math.pow(2, 8)"
   ]
  },
  {
   "attachments": {},
   "cell_type": "markdown",
   "metadata": {},
   "source": [
    "**表 3** 常用数学函数\n",
    "\n",
    "| 函数  | 说明 |\n",
    "| :-----:   | :---------  |\n",
    "| `ceil(x)` | 将 $x$ 向上舍入到最接近的整数 |\n",
    "| `cos(x)`  | 返回 $cos(x)$ |\n",
    "| `degrees(x)` | 将 $x$ 从弧度转换为度数 |\n",
    "| `e`  | 返回 $e$ 的值 |\n",
    "| `exp(x)`  | 返回 $e^x$ |\n",
    "| `factorial(x)` | 返回 $x$ 的阶乘 |\n",
    "| `floor(x)` | 将 $x$ 向下舍入到最接近的整数 |\n",
    "| `log(x)`  | 返回 $x$ 的自然对数 |\n",
    "| `log10(x)` | 返回 $x$ 以 10 为底的对数 |\n",
    "| `pi` | 返回 $\\pi$ 的值 |\n",
    "| `pow(x, y)` | 返回 $x^y$ |\n",
    "| `radians(x)` | 将 $x$ 从度数转换为弧度 |\n",
    "| `sin(x)`  | 返回 $sin(x)$ |\n",
    "| `sqrt(x)` | 返回 $x$ 的平方根 |\n",
    "| `tan(x)` | 返回 $tan(x)$ |\n"
   ]
  },
  {
   "attachments": {},
   "cell_type": "markdown",
   "metadata": {},
   "source": [
    "在Python中导入函数或模块的方法还有很多。如果只想使用整个模块中的单个函数，可以使用`from`语句选择性地导入它。下面是一个仅导入`radians()`函数的示例。"
   ]
  },
  {
   "cell_type": "code",
   "execution_count": null,
   "metadata": {},
   "outputs": [],
   "source": [
    "from math import radians\n",
    "radians(4)"
   ]
  },
  {
   "attachments": {},
   "cell_type": "markdown",
   "metadata": {},
   "source": [
    "## 1.2 变量\n",
    "\n",
    "在执行数学运算时，通常需要将值存储在*变量*中以备日后使用，而不是手动将其键入。这将节省编写代码时的工作量，并使任何更改自动在计算中传播。\n",
    "\n",
    "### 1.2.1 选择 & 赋值变量\n",
    "\n",
    "将值附加到变量上称为*赋值*，使用单个等号（`=`）执行。下面，`5.0`和`3`分别分配给变量`a`和`b`。然后，可以对变量进行数学运算，就像对数值进行数学运算一样。"
   ]
  },
  {
   "cell_type": "code",
   "execution_count": null,
   "metadata": {},
   "outputs": [],
   "source": [
    "a = 5.0 \n",
    "b = 3"
   ]
  },
  {
   "cell_type": "code",
   "execution_count": null,
   "metadata": {},
   "outputs": [],
   "source": [
    "a + b"
   ]
  },
  {
   "attachments": {},
   "cell_type": "markdown",
   "metadata": {},
   "source": [
    "变量几乎可以是任何字符串，只要它们以字母开头，不包含运算符（见表1），并且不包含在表4所示的Python关键字列表中。同样重要的是不要两次使用变量，因为这会覆盖第一个值。模块和函数也附加到变量，因此，如果导入了`math`模块，则该模块将附加到变量`math`。\n",
    "\n",
    "**表 4** Python关键字\n",
    "\n",
    "|     |    |        |             |          |          |\n",
    "|:--: |:--:| :----: |  :-------:  |:------:  | :------: |\n",
    "| `and` | `as` | `assert` |`break` |`class` |`continue` |\n",
    "|`def` |`del` |`elif` |`else` |`except` |`False` |\n",
    "|`finally` |`for` |`from` |`global` |`if` |`import` |\n",
    "|`in` |`is`|`lambda` |`None` |`nonlocal` |`not` |\n",
    "|`or` |`pass` |`raise` |`Return` |`True` |`try` |\n",
    "|`why` |`with` |`yield` |  |  |  |\n",
    "\n",
    "\n",
    "变量名清楚地指示它包含的内容会是一个好习惯。"
   ]
  },
  {
   "cell_type": "code",
   "execution_count": null,
   "metadata": {},
   "outputs": [],
   "source": [
    "# 推荐的变量命名方法\n",
    "\n",
    "mass = 1.6\n",
    "light_speed = 3.0e8\n",
    "mass * light_speed**2"
   ]
  },
  {
   "cell_type": "code",
   "execution_count": null,
   "metadata": {},
   "outputs": [],
   "source": [
    "# 不推荐的变量命名方法\n",
    "\n",
    "x = 3.2\n",
    "a = 1.77\n",
    "a + x"
   ]
  },
  {
   "attachments": {},
   "cell_type": "markdown",
   "metadata": {},
   "source": [
    "### 1.2.2 复合赋值\n",
    "\n",
    "一个变量可以分配给另一个变量，如下所示。当这种情况发生时，两个变量都被赋予相同的值。"
   ]
  },
  {
   "cell_type": "code",
   "execution_count": null,
   "metadata": {},
   "outputs": [],
   "source": [
    "x = 5 \n",
    "y = x"
   ]
  },
  {
   "cell_type": "code",
   "execution_count": null,
   "metadata": {},
   "outputs": [],
   "source": [
    "y"
   ]
  },
  {
   "attachments": {},
   "cell_type": "markdown",
   "metadata": {},
   "source": [
    "但是，请注意如果第一个变量`x`被分配给一个新值会发生什么。"
   ]
  },
  {
   "cell_type": "code",
   "execution_count": null,
   "metadata": {},
   "outputs": [],
   "source": [
    "x = 8\n",
    "y"
   ]
  },
  {
   "attachments": {},
   "cell_type": "markdown",
   "metadata": {},
   "source": [
    "它仍然包含第一个值，而不是`y`更新为新值。这是因为值5被直接分配给`y`，而不是`y`被分配给`x`。在底层，Python通过制作一个指针来处理赋值，该指针将变量名连接到计算机内存中的值。图1说明了上面例子中发生的情况。\n",
    "\n",
    "![](https://bohrium-example.oss-cn-zhangjiakou.aliyuncs.com/notebook/SciCompforChemists/notebooks/chapter_01/img/variable_assignment.png)\n",
    "\n",
    "**图** 1 变量赋值期间内存指针的表示形式显示为Python代码（左）和相应的点（右）\n",
    "\n",
    "`x`指针指向一个新值，但`y`指针仍然指向5。"
   ]
  },
  {
   "attachments": {},
   "cell_type": "markdown",
   "metadata": {},
   "source": [
    "## 1.3 字符串\n",
    "\n",
    "浮点和整数是存储数字数据的方法。另一种主要类型的数据是以字符串形式存储的文本，该字符串简称为*string*。字符串可以包含各种字符，包括字母、数字和符号，并由单引号或双引号标识。"
   ]
  },
  {
   "cell_type": "code",
   "execution_count": null,
   "metadata": {},
   "outputs": [],
   "source": [
    "'some text'"
   ]
  },
  {
   "attachments": {},
   "cell_type": "markdown",
   "metadata": {},
   "source": [
    "````{margin}\n",
    "```{Tip}\n",
    "三引号也可以用于跨多行扩展字符串，也可以用于新定义的函数中的文档字符串。\n",
    "```\n",
    "````"
   ]
  },
  {
   "attachments": {},
   "cell_type": "markdown",
   "metadata": {},
   "source": [
    "### 1.3.1 创建字符串\n",
    "\n",
    "创建字符串的最简单方法是用单引号或双引号将文本括起来，并且可以像浮点和整数一样将字符串分配给变量。要让Python打印出文本，请使用`print()`函数。"
   ]
  },
  {
   "cell_type": "code",
   "execution_count": null,
   "metadata": {},
   "outputs": [],
   "source": [
    "text = \"some text\""
   ]
  },
  {
   "cell_type": "code",
   "execution_count": null,
   "metadata": {},
   "outputs": [],
   "source": [
    "print(text)"
   ]
  },
  {
   "attachments": {},
   "cell_type": "markdown",
   "metadata": {},
   "source": [
    "字符串也可以通过使用`str()`函数将浮点或整数转换为字符串来创建。"
   ]
  },
  {
   "cell_type": "code",
   "execution_count": null,
   "metadata": {},
   "outputs": [],
   "source": [
    "str(4)"
   ]
  },
  {
   "attachments": {},
   "cell_type": "markdown",
   "metadata": {},
   "source": [
    "即使数字可以包含在字符串中，Python也不会对其执行数学运算，因为它将字符串中的任何内容视为一系列字符，而不是其他。如下所示，在尝试`'4'`和`'2'`相加时，Python将这两个字符串连接起来，而不是进行数学加法。类似地，在尝试将'4'乘以2时，Python会返回两次字符串并将它们连接起来。这些是组合或延长字符串的方法，但没有执行实际的数学运算。"
   ]
  },
  {
   "cell_type": "code",
   "execution_count": null,
   "metadata": {},
   "outputs": [],
   "source": [
    "'4' + '2'"
   ]
  },
  {
   "cell_type": "code",
   "execution_count": null,
   "metadata": {},
   "outputs": [],
   "source": [
    "'4' * 2"
   ]
  },
  {
   "attachments": {},
   "cell_type": "markdown",
   "metadata": {},
   "source": [
    "如果两个字符串相乘，Python将返回一个错误。这是从文本文档导入数字数据时经常遇到的问题。修改方法是使用`float()`或`int()`函数将字符串转换为数字。"
   ]
  },
  {
   "cell_type": "raw",
   "metadata": {},
   "source": [
    "'4' * '2'"
   ]
  },
  {
   "cell_type": "code",
   "execution_count": null,
   "metadata": {},
   "outputs": [],
   "source": [
    "int('4') * int('2')"
   ]
  },
  {
   "attachments": {},
   "cell_type": "markdown",
   "metadata": {},
   "source": [
    "如果我们想知道字符串的长度，我们可以使用`len()`函数，如下所示。"
   ]
  },
  {
   "cell_type": "code",
   "execution_count": null,
   "metadata": {},
   "outputs": [],
   "source": [
    "len(text)"
   ]
  },
  {
   "attachments": {},
   "cell_type": "markdown",
   "metadata": {},
   "source": [
    "`'some text'`的长度为9，因为空格是有效字符。\n",
    "\n",
    "要在同一条消息中同时显示文本和数字，`print()`函数非常有用。用户可以将数字转换为字符串并将两者连接起来，也可以用逗号分隔每个对象。请注意，在前一种方法中，空格需要由用户包含。"
   ]
  },
  {
   "cell_type": "code",
   "execution_count": null,
   "metadata": {},
   "outputs": [],
   "source": [
    "print(str(4.0) + ' g')"
   ]
  },
  {
   "cell_type": "code",
   "execution_count": null,
   "metadata": {},
   "outputs": [],
   "source": [
    "print(4.0, 'g')"
   ]
  },
  {
   "attachments": {},
   "cell_type": "markdown",
   "metadata": {},
   "source": [
    "### 1.3.2 索引和切片\n",
    "\n",
    "在科学计算和其他应用中，访问一段或一片字符串是一项常见的任务。当从文本文件将数据导入Python时，通常会遇到这种情况，并且只需要其中的一部分。*索引*允许用户访问字符串中的单个字符。例如，如果字符串包含肽的氨基酸序列，并且我们想知道第一个氨基酸，我们可以使用索引来提取这个字符。Python中索引的关键细节是**标记从零开始**。这意味着第一个字符是索引0，第二个字符是索引1，依此类推。如果我们有一个`'MSLFKIRMPE'`的肽序列，那么索引如下所示。\n",
    "\n",
    "|          |   |   |   |   |   |   |   |   |   |   |\n",
    "| -----:   |:-:|:-:|:-:|:-:|:-:|:-:|:-:|:-:|:-:|:-:|\n",
    "| 字符 | M | S | L | F | K | I | R | M | P | E | \n",
    "| 索引 | 0 | 1 | 2 | 3 | 4 | 5 | 6 | 7 | 8 | 9 |\n",
    "\n",
    "要访问字符，请将索引放在字符串名称后面的方括号中。"
   ]
  },
  {
   "cell_type": "code",
   "execution_count": null,
   "metadata": {},
   "outputs": [],
   "source": [
    "seq = 'MSLFKIRMPE'"
   ]
  },
  {
   "cell_type": "code",
   "execution_count": null,
   "metadata": {},
   "outputs": [],
   "source": [
    "seq[0]"
   ]
  },
  {
   "attachments": {},
   "cell_type": "markdown",
   "metadata": {},
   "source": [
    "有趣的是，我们不必使用变量来做到这一点；我们可以直接对字符串执行相同的上述操作。"
   ]
  },
  {
   "cell_type": "code",
   "execution_count": null,
   "metadata": {},
   "outputs": [],
   "source": [
    "'MSLFKIRMPE'[1]"
   ]
  },
  {
   "attachments": {},
   "cell_type": "markdown",
   "metadata": {},
   "source": [
    "如果你想知道字符串的最后一个字符，会发生什么？一种方法是确定字符串的长度，并使用它来确定最后一个字符的索引。"
   ]
  },
  {
   "cell_type": "code",
   "execution_count": null,
   "metadata": {},
   "outputs": [],
   "source": [
    "len(seq)"
   ]
  },
  {
   "cell_type": "code",
   "execution_count": null,
   "metadata": {},
   "outputs": [],
   "source": [
    "seq[9]"
   ]
  },
  {
   "attachments": {},
   "cell_type": "markdown",
   "metadata": {},
   "source": [
    "字符串也可以反向索引，那么最后一个字符的索引为-1。\n",
    "\n",
    "|          |   |   |   |   |   |   |   |   |   |   |\n",
    "| -----:   |:-:|:-:|:-:|:-:|:-:|:-:|:-:|:-:|:-:|:-:|\n",
    "| 字符 | M | S | L | F | K | I | R | M | P | E | \n",
    "| 索引 | -10 | -9 | -8 | -7 | -6 | -5 | -4 | -3 | -2 | -1 |"
   ]
  },
  {
   "cell_type": "code",
   "execution_count": null,
   "metadata": {},
   "outputs": [],
   "source": [
    "seq[-1]"
   ]
  },
  {
   "attachments": {},
   "cell_type": "markdown",
   "metadata": {},
   "source": [
    "索引只能访问单个字符，但经常需要字符串中的一串字符，*切片*可以让我们截取一段字符串。它使用与上面相同的索引值，只是需要用方括号中的冒号分隔的开始索引和结束索引。一个重要的细节是，起始索引处的字符被包括在切片中，而结束索引处的字符被排除在切片之外。"
   ]
  },
  {
   "cell_type": "code",
   "execution_count": null,
   "metadata": {},
   "outputs": [],
   "source": [
    "seq[0:5]"
   ]
  },
  {
   "attachments": {},
   "cell_type": "markdown",
   "metadata": {},
   "source": [
    "如果查看每个字母的索引值，你会注意到索引`5`（`I`）处的字符不包括在内。\n",
    "\n",
    "如果你想获取字符串的最后三个字符来确定文件扩展名（即，它是什么类型的文件），会发生什么？最后一个索引未包含在切片中这一情况导致了如下所示的问题。"
   ]
  },
  {
   "cell_type": "code",
   "execution_count": null,
   "metadata": {},
   "outputs": [],
   "source": [
    "file = '1rxt.pdb'"
   ]
  },
  {
   "cell_type": "code",
   "execution_count": null,
   "metadata": {},
   "outputs": [],
   "source": [
    "file[-3:-1]"
   ]
  },
  {
   "attachments": {},
   "cell_type": "markdown",
   "metadata": {},
   "source": [
    "解决方法是将结束索引留空。告诉Python直接走到最后。"
   ]
  },
  {
   "cell_type": "code",
   "execution_count": null,
   "metadata": {},
   "outputs": [],
   "source": [
    "file[-3:]"
   ]
  },
  {
   "attachments": {},
   "cell_type": "markdown",
   "metadata": {},
   "source": [
    "这个技巧也适用于起始索引，以获得不带扩展名的文件名。请注意，`-4`索引是句点。"
   ]
  },
  {
   "cell_type": "code",
   "execution_count": null,
   "metadata": {},
   "outputs": [],
   "source": [
    "file[:-4]"
   ]
  },
  {
   "attachments": {},
   "cell_type": "markdown",
   "metadata": {},
   "source": [
    "最后，我们还可以调整切片中的步长。也就是说，我们可以通过将步长设置为2来要求字符串中每隔一个字符。整体结构为 **\\[start : stop : step]**."
   ]
  },
  {
   "cell_type": "code",
   "execution_count": null,
   "metadata": {},
   "outputs": [],
   "source": [
    "seq[::2]"
   ]
  },
  {
   "attachments": {},
   "cell_type": "markdown",
   "metadata": {},
   "source": [
    "### 1.3.3 字符串方法\n",
    "\n",
    "*方法*是一个处理特定类型对象的函数。字符串方法只适用于字符串，而不适用于其他对象（如浮点）。稍后，你将看到其他对象，如列表和NumPy数组，它们有自己的方法来使用这些类型的对象执行常见任务。你可以简单的把“方法”和“功能”等同起来。\n",
    " \n",
    "字符串方法的一个例子是`capitalize()`函数，它返回第一个字母大写的字符串。使用字符串方法被称为*调用*方法... 它是用于执行函数的计算机科学术语。该方法是通过在字符串或表示字符串的变量后面附加`.capitalize()`来调用的。例如，下面是阿尔伯特·爱因斯坦的一句名言，需要将第一个字母大写。"
   ]
  },
  {
   "cell_type": "code",
   "execution_count": null,
   "metadata": {},
   "outputs": [],
   "source": [
    "quote = 'anyone who has never made a mistake has never tried anything new.'"
   ]
  },
  {
   "cell_type": "code",
   "execution_count": null,
   "metadata": {},
   "outputs": [],
   "source": [
    "quote.capitalize()"
   ]
  },
  {
   "attachments": {},
   "cell_type": "markdown",
   "metadata": {},
   "source": [
    "请注意，如果我们检查原始引用，它是不变的（如下所示）。这个方法不会改变原始字符串，而是返回一个首字母大写的副本。如果我们想要保存大写版本，我们可以将其分配给一个新变量...或者覆盖原始字符串。"
   ]
  },
  {
   "cell_type": "code",
   "execution_count": null,
   "metadata": {},
   "outputs": [],
   "source": [
    "quote"
   ]
  },
  {
   "cell_type": "code",
   "execution_count": null,
   "metadata": {},
   "outputs": [],
   "source": [
    "cap_quote = quote.capitalize()"
   ]
  },
  {
   "cell_type": "code",
   "execution_count": null,
   "metadata": {},
   "outputs": [],
   "source": [
    "cap_quote"
   ]
  },
  {
   "attachments": {},
   "cell_type": "markdown",
   "metadata": {},
   "source": [
    "作为一个次要说明，字符串方法还可以用 `str.method(string)` 的方式调用，其中 `method` 是字符串方法的名称，`string` 是字符串或字符串变量。虽然这种方法可行，但使用得较少。首选的方法是使用 `string.method()`，因为任何字符串方法都需要一个字符串来操作，所以许多人认为字符串应该在函数调用中起始。这样输入也更短，这当然是一个优点。"
   ]
  },
  {
   "cell_type": "code",
   "execution_count": null,
   "metadata": {},
   "outputs": [],
   "source": [
    "str.isalpha(quote)"
   ]
  },
  {
   "cell_type": "code",
   "execution_count": null,
   "metadata": {},
   "outputs": [],
   "source": [
    "str.capitalize(quote)"
   ]
  },
  {
   "attachments": {},
   "cell_type": "markdown",
   "metadata": {},
   "source": [
    "下面是一些您可能会发现有用的常见字符串方法。\n",
    "\n",
    "**表5** 常见字符串方法\n",
    "\n",
    "| 方法 | 描述 |\n",
    "| :---:  | :---------  |\n",
    "|`capitalize()` | 将字符串的第一个字母大写 |\n",
    "|`center(width)` | 返回两侧用空格填充以达到请求的总宽度的居中字符串 |\n",
    "|`count(characters)`|  返回一系列字符的非重叠出现次数 |\n",
    "|`find(characters)` | 返回字符串中 `characters` 第一次出现的索引 |\n",
    "|`isalnum()` | 判断一个字符串是否全部为字母数字字符，并返回 `True` 或 `False` |\n",
    "|`isalpha()` | 判断一个字符串是否全部为字母，并返回 `True` 或 `False` |\n",
    "|`isdigit()` | 判断一个字符串是否全部为数字，并返回 `True` 或 `False` |\n",
    "|`lstrip(characters)` | 返回一个删除了开头的 `characters` 的字符串；如果没有给出 `characters`，则删除空格|\n",
    "|`rstrip(characters)` | 返回一个删除了结尾的 `characters` 的字符串；如果没有给出 `characters`，则删除空格 |\n",
    "|`split(sep=None)` | 根据分隔符拆分字符串；如果 `sep=None`，则默认为空格 |\n",
    "|`startswith(prefix)` | 判断字符串是否以 `prefix` 开头，并返回 `True` 或 `False` |\n",
    "|`endswith(suffix)` | 判断字符串是否以 `suffix` 结尾，并返回 `True` 或 `False` |"
   ]
  },
  {
   "attachments": {},
   "cell_type": "markdown",
   "metadata": {
    "tags": []
   },
   "source": [
    "### 1.3.4 字符串格式化\n",
    "\n",
    "在[1.3.1节](1.3.1)，我们可以通过使用 `+` 运算符来连接两个字符串，如下所示。使用这种方法，有必要将任何非字符串转换为字符串，方法是使用 `str()` 函数。"
   ]
  },
  {
   "cell_type": "code",
   "execution_count": null,
   "metadata": {},
   "outputs": [],
   "source": [
    "MW = 63.21\n",
    "\"Molar mass = \" + str(MW) + \" g/mol.\""
   ]
  },
  {
   "attachments": {},
   "cell_type": "markdown",
   "metadata": {},
   "source": [
    "虽然这种方法通常能很好地工作，但是在组合更多字符串时，可能会变得混乱或难以处理。在本节中，我们将介绍其他几种合并字符串的方法。您选择使用哪种方法是个人偏好的问题，但了解它们还是有必要的，因为您可能会在其他地方看到它们。\n",
    "\n",
    "#### `str.format()` 方法\n",
    "\n",
    "我们将首先介绍的方法是使用 `str.format()` 方法。在这种方法中，字符串（即 `str`）包括在要插入其他字符串的位置的大括号 `{}`，并将这些附加字符串作为 `str.format()` 函数的参数提供。例如，在下面我们生成一个句子，提供化合物的名称和分子量。注意 `compound` 如何插入到第一个 `{}` 的位置，而 `MW` 插入到第二个 `{}` 的位置。"
   ]
  },
  {
   "cell_type": "code",
   "execution_count": null,
   "metadata": {},
   "outputs": [],
   "source": [
    "compound = 'ammonia'\n",
    "MW = 17.03\n",
    "\n",
    "'The molar mass of {} is {} g/mol.'.format(compound, MW)"
   ]
  },
  {
   "attachments": {},
   "cell_type": "markdown",
   "metadata": {},
   "source": [
    "如果我们将 `compound` 和 `MW` 变量分配给其他值，`str.format()` 函数会尽职尽责地将这些新字符串插入到我们的句子中。还要注意的是，`format()` 函数会自动将非字符串对象转换为字符串。"
   ]
  },
  {
   "cell_type": "code",
   "execution_count": null,
   "metadata": {},
   "outputs": [],
   "source": [
    "compound = 'urea'\n",
    "MW = 60.06\n",
    "\n",
    "'The molar mass of {} is {} g/mol.'.format(compound, MW)"
   ]
  },
  {
   "attachments": {},
   "cell_type": "markdown",
   "metadata": {},
   "source": [
    "上述方法的一个变种是在大括号内包含一个索引值，表示在句子中应插入哪个提供给 `str.format()` 函数的字符串。在下面的示例中，`compound` 首先提供给 `str.format()` 函数，因此它替换了 `{0}`，而 `MW` 是第二个，所以它替换了 `{1}`。请记住，Python 索引值从零开始。"
   ]
  },
  {
   "cell_type": "code",
   "execution_count": null,
   "metadata": {},
   "outputs": [],
   "source": [
    "compound = 'urea'\n",
    "MW = 60.06\n",
    "\n",
    "'The molar mass of {0} is {1} g/mol.'.format(compound, MW)"
   ]
  },
  {
   "attachments": {},
   "cell_type": "markdown",
   "metadata": {},
   "source": [
    "因为我们明确地提供了索引值，所以我们可以按任意顺序将字符串插入到句子中。请注意，在下面的示例中，`MW` 和 `compound` 变量以不同的顺序提供给函数。"
   ]
  },
  {
   "cell_type": "code",
   "execution_count": null,
   "metadata": {},
   "outputs": [],
   "source": [
    "'The molar mass of {1} is {0} g/mol.'.format(MW, compound)"
   ]
  },
  {
   "attachments": {},
   "cell_type": "markdown",
   "metadata": {},
   "source": [
    "我们还可以像下面这样多次将字符串插入到句子中。"
   ]
  },
  {
   "cell_type": "code",
   "execution_count": null,
   "metadata": {},
   "outputs": [],
   "source": [
    "'The compound {0} is a molecular compound \\\n",
    "and {0} has a molecular mass of {1} g/mol.'.format(compound, MW)"
   ]
  },
  {
   "attachments": {},
   "cell_type": "markdown",
   "metadata": {
    "tags": []
   },
   "source": [
    "#### F-Strings\n",
    "\n",
    "组合字符串的下一个方法是使用 *f-strings*。在这种方法中，字符串前面加上 `f`，并且使用大括号 `{}` 插入的字符串，其变量名位于大括号内，如下所示。这种方法的吸引力在于它简单、多功能且相对容易理解。"
   ]
  },
  {
   "cell_type": "code",
   "execution_count": null,
   "metadata": {},
   "outputs": [],
   "source": [
    "f'The molar mass of {compound} is {MW} g/mol.'"
   ]
  },
  {
   "attachments": {},
   "cell_type": "markdown",
   "metadata": {},
   "source": [
    "我们还可以通过在括号内放置额外的 Python 代码来修改字符串，如下所示，其中化合物的第一个字母大写。"
   ]
  },
  {
   "cell_type": "code",
   "execution_count": null,
   "metadata": {},
   "outputs": [],
   "source": [
    "f'The molar mass of {compound.capitalize()} is {MW} g/mol.'"
   ]
  },
  {
   "attachments": {},
   "cell_type": "markdown",
   "metadata": {},
   "source": [
    "**表 6** 比较运算符\n",
    "\n",
    "| 运算符 | 描述 |\n",
    "|:-------: | :--------   |\n",
    "|`==` | 等于（双等号） |\n",
    "|`!=` | 不等于 |\n",
    "|`<=` | 小于或等于 |\n",
    "|`>=` | 大于或等于 |\n",
    "|`<`  | 小于 |\n",
    "|`>`  | 大于 |\n",
    "|`is` | 同一性 |\n",
    "|`is not` | 非同一性 |\n",
    "\n",
    "is 和 is not 布尔运算符并不那么直观。这两个运算符分别测试两个对象是否为*相同的东西*（即，同一性）或*不同的东西*。例如，如果我们测试 8 和 8.0 是否相等，结果为 True，因为它们是相同的数量。然而，如果我们测试同一性，结果为 `False`，因为 8 是一个整数而 8.0 是一个浮点数。\n"
   ]
  },
  {
   "cell_type": "code",
   "execution_count": null,
   "metadata": {},
   "outputs": [],
   "source": [
    "8 == 3"
   ]
  },
  {
   "cell_type": "code",
   "execution_count": null,
   "metadata": {},
   "outputs": [],
   "source": [
    "8 > 3"
   ]
  },
  {
   "cell_type": "code",
   "execution_count": null,
   "metadata": {},
   "outputs": [],
   "source": [
    "8 == 8.0"
   ]
  },
  {
   "cell_type": "code",
   "execution_count": null,
   "metadata": {
    "editable": true,
    "slideshow": {
     "slide_type": ""
    },
    "tags": [
     "raises-exception"
    ]
   },
   "outputs": [],
   "source": [
    "8 is 8.0"
   ]
  },
  {
   "attachments": {},
   "cell_type": "markdown",
   "metadata": {},
   "source": [
    "在最后一个示例中，Python 生成了一个警告，因为用户可能打算使用 `==` 而不是 `is`。"
   ]
  },
  {
   "attachments": {},
   "cell_type": "markdown",
   "metadata": {},
   "source": [
    "### 1.4.2 复合比较\n",
    "\n",
    "**表 7** 逻辑运算符\n",
    "\n",
    "| 运算符 | 描述 |\n",
    "|:-------: | :---------  |\n",
    "|`and` | 测试是否都为 `True` |\n",
    "|`or`  | 测试是否有一个为 `True` |\n",
    "|`not` | 测试是否为 `False` |\n",
    "\n",
    "`and` 运算符要求两个输入值都为 `True` 才返回 `True`，而 `or` 运算符只要求一个输入值为 `True` 就能计算为 `True`。not 运算符不同，它只需要一个输入值，并且仅当输入值为 `False` 时才返回 `True`。"
   ]
  },
  {
   "cell_type": "code",
   "execution_count": null,
   "metadata": {},
   "outputs": [],
   "source": [
    "True and False"
   ]
  },
  {
   "cell_type": "code",
   "execution_count": null,
   "metadata": {},
   "outputs": [],
   "source": [
    "True or False"
   ]
  },
  {
   "cell_type": "code",
   "execution_count": null,
   "metadata": {},
   "outputs": [],
   "source": [
    "8 > 3 or 8 < 2"
   ]
  },
  {
   "cell_type": "code",
   "execution_count": null,
   "metadata": {},
   "outputs": [],
   "source": [
    "not 8 > 3"
   ]
  },
  {
   "attachments": {},
   "cell_type": "markdown",
   "metadata": {},
   "source": [
    "下面显示了三个常见布尔逻辑运算符的真值表。布尔逻辑本身并不是非常有用，但是与条件（下面介绍）结合使用时，它是编程和数据分析中的强大工具。\n",
    "\n",
    "**表 8** `and`/`or` 逻辑运算符的真值表\n",
    "\n",
    "| `p` | `q` |`p and q` | `p or q` |\n",
    "|:--:| :--: | :--: | :--: |\n",
    "|`True` | `True` | `True` | `True` |\n",
    "|`True` | `False` | `False` | `True` |\n",
    "|`False` | `True` | `False` | `True` |\n",
    "|`False` | `False` | `False` | `False` |\n",
    "\n",
    "\n",
    "**表 9** `not` 逻辑运算符的真值表\n",
    "\n",
    "| `p` | `p not q` |\n",
    "|:---:| :-------: |\n",
    "|`True` | `False` |\n",
    "|`False` | `True` |"
   ]
  },
  {
   "attachments": {},
   "cell_type": "markdown",
   "metadata": {},
   "source": [
    "### 1.4.3 替代真值表示\n",
    "\n",
    "值 `1` 和 `0` 也可以分别代替 `True` 和 `False` 使用，因为 Python 将它们视为替代物。为了让 Python 知道你是将这些值作为布尔值而不仅仅是整数，Python 有时需要使用 `bool()` 函数。"
   ]
  },
  {
   "cell_type": "code",
   "execution_count": null,
   "metadata": {},
   "outputs": [],
   "source": [
    "bool(1)"
   ]
  },
  {
   "cell_type": "code",
   "execution_count": null,
   "metadata": {},
   "outputs": [],
   "source": [
    "bool(0)"
   ]
  },
  {
   "cell_type": "code",
   "execution_count": null,
   "metadata": {},
   "outputs": [],
   "source": [
    "bool(5)"
   ]
  },
  {
   "attachments": {},
   "cell_type": "markdown",
   "metadata": {},
   "source": [
    "你可以使用 `1` 和 `0` 执行[第 1.4.2 节](1.4.2)中的一些布尔操作，但是 Python 会以 `1` 和 `0` 的形式返回结果。"
   ]
  },
  {
   "cell_type": "code",
   "execution_count": null,
   "metadata": {},
   "outputs": [],
   "source": [
    "1 or 0"
   ]
  },
  {
   "cell_type": "code",
   "execution_count": null,
   "metadata": {},
   "outputs": [],
   "source": [
    "1 and 0"
   ]
  },
  {
   "attachments": {},
   "cell_type": "markdown",
   "metadata": {},
   "source": [
    "### 1.4.4 `any()` 和 `all()`\n",
    "\n",
    "有时候，在[第 1.6 节](1.6)中介绍的列表或元组中，测试任何值或所有值是否为 `True` 是很有帮助的。`any()` 和 `all()` 函数正是这样做的。前者在对象中一个或多个值测试为 `True` 时返回 `True`，而后者只有在所有值都为 `True` 时才会评估为 `True`。"
   ]
  },
  {
   "cell_type": "code",
   "execution_count": null,
   "metadata": {},
   "outputs": [],
   "source": [
    "any([True, True, False])"
   ]
  },
  {
   "cell_type": "code",
   "execution_count": null,
   "metadata": {},
   "outputs": [],
   "source": [
    "all([True, True, False])"
   ]
  },
  {
   "cell_type": "code",
   "execution_count": null,
   "metadata": {},
   "outputs": [],
   "source": [
    "all([True, True, True])"
   ]
  },
  {
   "attachments": {},
   "cell_type": "markdown",
   "metadata": {},
   "source": [
    "当输入数字时，`any()` 和 `all()` 函数都会按照[第 1.4.3 节](1.4.3)中的描述将它们视为布尔值。"
   ]
  },
  {
   "cell_type": "code",
   "execution_count": null,
   "metadata": {},
   "outputs": [],
   "source": [
    "any([0, 1, 0])"
   ]
  },
  {
   "attachments": {},
   "cell_type": "markdown",
   "metadata": {},
   "source": [
    "### 1.4.5 包含测试\n",
    "\n",
    "Python 允许使用 `in` 运算符测试*包含*。假设我们想测试一个给定的分子式中是否含有镍。我们可以简单地测试一下“Ni”是否在该公式中。"
   ]
  },
  {
   "cell_type": "code",
   "execution_count": null,
   "metadata": {},
   "outputs": [],
   "source": [
    "comp1 = 'Co(NH3)6'\n",
    "comp2 = 'Ni(H2O)6'"
   ]
  },
  {
   "cell_type": "code",
   "execution_count": null,
   "metadata": {},
   "outputs": [],
   "source": [
    "'Ni' in comp1"
   ]
  },
  {
   "cell_type": "code",
   "execution_count": null,
   "metadata": {},
   "outputs": [],
   "source": [
    "'Ni' in comp2"
   ]
  },
  {
   "attachments": {},
   "cell_type": "markdown",
   "metadata": {},
   "source": [
    "`in` 运算符也适用于除字符串之外的其他对象，包括列表和元组，你将在[第 1.6 节](1.6)中学到这些。"
   ]
  },
  {
   "attachments": {},
   "cell_type": "markdown",
   "metadata": {},
   "source": [
    "## 1.5 条件\n",
    "\n",
    "*条件*允许用户指定是否以及何时执行某些行或代码块。具体来说，当一个条件为真时，直接向下缩进的代码块就会运行。在下面的例子中，如果 pH 大于 7，则代码会打印出语句 \"The solution is basic.\" 和 \"Neutralize with acid.\"。\n",
    "\n",
    "~~~python\n",
    "if pH > 7:\n",
    "    print('The solution is basic.')\n",
    "    print('Neutralize with acid.')\n",
    "~~~\n",
    "\n",
    "### 1.5.1 `if` 语句\n",
    "\n",
    "`if` 语句是控制何时运行代码块的方法。它的结构如下所示，`if` 语句以冒号结尾，下面的代码块缩进**四个空格**。在 Jupyter notebook中，按下**Tab**键也会生成四个空格。"
   ]
  },
  {
   "cell_type": "code",
   "execution_count": null,
   "metadata": {},
   "outputs": [],
   "source": [
    "x = 7"
   ]
  },
  {
   "cell_type": "code",
   "execution_count": null,
   "metadata": {},
   "outputs": [],
   "source": [
    "if x > 5:\n",
    "    y = x **2\n",
    "    print(y)"
   ]
  },
  {
   "attachments": {},
   "cell_type": "markdown",
   "metadata": {},
   "source": [
    "如果位于 `if` 语句后面的布尔语句为 `True`，则会运行下面缩进的代码。如果语句为 `False`，Python 将跳过下面的缩进代码，如下所示。"
   ]
  },
  {
   "cell_type": "code",
   "execution_count": null,
   "metadata": {},
   "outputs": [],
   "source": [
    "x = 3"
   ]
  },
  {
   "cell_type": "code",
   "execution_count": null,
   "metadata": {},
   "outputs": [],
   "source": [
    "if x > 5:\n",
    "    y = x **2\n",
    "    print(y)"
   ]
  },
  {
   "attachments": {},
   "cell_type": "markdown",
   "metadata": {},
   "source": [
    "在这段代码中没有输出或返回任何内容，因为 `x` 不大于 5。"
   ]
  },
  {
   "attachments": {},
   "cell_type": "markdown",
   "metadata": {},
   "source": [
    "### 1.5.2 `else` 语句\n",
    "\n",
    "有时候，在 `if` 语句评估为 `False` 时，需要运行另一个代码块。这可以通过使用 `else` 语句来实现，如下所示。"
   ]
  },
  {
   "cell_type": "code",
   "execution_count": null,
   "metadata": {},
   "outputs": [],
   "source": [
    "pH = 9"
   ]
  },
  {
   "cell_type": "code",
   "execution_count": null,
   "metadata": {},
   "outputs": [],
   "source": [
    "if pH == 7:\n",
    "    print('The solution is neutral.')\n",
    "else:\n",
    "    print('The solution is not neutral.')"
   ]
  },
  {
   "attachments": {},
   "cell_type": "markdown",
   "metadata": {},
   "source": [
    "如果 pH 不等于 7，那么在 `else` 语句下缩进的任何内容都会被执行。\n",
    "\n",
    "还有一个附加语句叫做 `elif` 语句，\"else if\"的简称，用于在第一个 `if` 语句下添加额外的条件。仅当 `if` 语句为 `False` 且 `elif` 语句为 `True` 时，才会运行 `elif` 语句下的代码块。在下面的示例中，如果 pH 等于 7，则运行第一个缩进块。否则，如果 pH 大于 7，则执行第二个块。如果 `if` 和所有 `elif` 语句都为 `False`，那么将执行 `else` 块。"
   ]
  },
  {
   "cell_type": "code",
   "execution_count": null,
   "metadata": {},
   "outputs": [],
   "source": [
    "if pH == 7:\n",
    "    print('The solution is neutral.')\n",
    "elif pH > 7:\n",
    "    print('The solution is basic.')\n",
    "else:\n",
    "    print('The solution is acidic.')"
   ]
  },
  {
   "attachments": {},
   "cell_type": "markdown",
   "metadata": {},
   "source": [
    "值得注意的是，并非每个 `if` 语句都需要 `else` 语句，上述最后一个条件也可以是 `elif pH < 7:`，并且可以达到相同的效果。"
   ]
  },
  {
   "attachments": {},
   "cell_type": "markdown",
   "metadata": {},
   "source": [
    "## 1.6 列表和元组\n",
    "\n",
    "到目前为止，我们只处理了单个值或字符串。处理一组值（如化学元素的平均原子质量）是很常见的，但将每个值分配给单独的变量是不方便的。相反，可以将这些值放在列表或元组中。*列表* 和 *元组* 都是由*元素*（如数字或字符串）组成的集合，关键区别在于列表可以被修改，而元组不能。一旦创建，元组就不能更改，因此被称为*不可变*。不出所料，列表通常比元组更有用。\n",
    "\n",
    "### 1.6.1 创建列表\n",
    "\n",
    "创建列表的方法是将元素放在方括号内。下面创建了一个名为 `mass` 的列表，其中包含前六种化学元素的原子质量。"
   ]
  },
  {
   "cell_type": "code",
   "execution_count": null,
   "metadata": {},
   "outputs": [],
   "source": [
    "mass = [1.01, 4.00, 6.94, 0.01, 10.81, 12.01]"
   ]
  },
  {
   "cell_type": "code",
   "execution_count": null,
   "metadata": {},
   "outputs": [],
   "source": [
    "mass"
   ]
  },
  {
   "attachments": {},
   "cell_type": "markdown",
   "metadata": {},
   "source": [
    "一个列表可以包含各种不同类型的对象。下面创建了一个名为 `EN` 的列表，用于存储周期表前六个元素的保林电负性值。列表中主要包含浮点数，但在这个例子中，He 的值不可用，所以在原本应该有数值的地方放置了一个 `'NA'` 字符串。"
   ]
  },
  {
   "cell_type": "code",
   "execution_count": null,
   "metadata": {},
   "outputs": [],
   "source": [
    "EN = [2.1, 'NA', 1.0, 1.5, 2.0, 2.5]"
   ]
  },
  {
   "cell_type": "code",
   "execution_count": null,
   "metadata": {},
   "outputs": [],
   "source": [
    "EN"
   ]
  },
  {
   "attachments": {},
   "cell_type": "markdown",
   "metadata": {},
   "source": [
    "### 1.6.2 索引和切片列表\n",
    "\n",
    "*索引* 用于访问列表中的单个元素，这种方法类似于如下所示的索引字符串。索引是列表中给定对象的位置，同样，**索引编号从零开始**。通过在列表名称后面的方括号中放入我们想要的元素的数字索引来访问列表的元素。例如，如果我们想要获取电负性列表（`EN`）中的第一个元素，我们使用 `EN[0]`，而 `EN[1]` 提供第二个元素，依此类推。"
   ]
  },
  {
   "cell_type": "code",
   "execution_count": null,
   "metadata": {},
   "outputs": [],
   "source": [
    "EN[0]"
   ]
  },
  {
   "cell_type": "code",
   "execution_count": null,
   "metadata": {},
   "outputs": [],
   "source": [
    "EN[1]"
   ]
  },
  {
   "attachments": {},
   "cell_type": "markdown",
   "metadata": {},
   "source": [
    "可以通过在冒号分隔的开始和停止索引中包含多个元素一次性检索多个元素。就像在字符串中一样，这个过程被称为*切片*。在整个Python中出现的一个约定是，第一个索引包含在内，但第二个索引不包含在内，`[包含 : 排除 : 步长]`。"
   ]
  },
  {
   "cell_type": "code",
   "execution_count": null,
   "metadata": {},
   "outputs": [],
   "source": [
    "EN[0:3]"
   ]
  },
  {
   "cell_type": "code",
   "execution_count": null,
   "metadata": {},
   "outputs": [],
   "source": [
    "EN[3:5]"
   ]
  },
  {
   "attachments": {},
   "cell_type": "markdown",
   "metadata": {},
   "source": [
    "就像在字符串中一样，如果我们想要到结尾的所有内容，就不要提供停止索引。"
   ]
  },
  {
   "cell_type": "code",
   "execution_count": null,
   "metadata": {},
   "outputs": [],
   "source": [
    "EN[3:]"
   ]
  },
  {
   "attachments": {},
   "cell_type": "markdown",
   "metadata": {},
   "source": [
    "````{margin}\n",
    "```{提示}\n",
    "变量名可以是任何内容，只要它们遵循 Python 的变量命名规则，但也有一些非正式的约定。一种约定是，如果需要存储索引，可以使用小写字母 `i` 作为索引值。\n",
    "```\n",
    "````"
   ]
  },
  {
   "attachments": {},
   "cell_type": "markdown",
   "metadata": {},
   "source": [
    "### 1.6.3 列表方法\n",
    "\n",
    "与字符串类似，列表对象也有一组方法（即函数）用于执行常见任务。表10中介绍了一些更常见且有用的列表方法，所有这些方法都会修改原始列表，除了 `copy()`。与方法一样，它们只适用于它们设计的对象类型，所以列表方法只适用于列表。\n",
    "\n",
    "**表10** 常见列表方法\n",
    "\n",
    "| 方法 | 描述 |\n",
    "|:----:| :---- |\n",
    "|`append(element)` | 在列表末尾添加一个元素 |\n",
    "|`clear()` | 从列表中删除所有元素 |\n",
    "|`copy()` | 创建列表的独立副本 |\n",
    "|`count(element)` | 返回元素在列表中出现的次数 |\n",
    "|`extend(elements)` | 向列表中添加多个元素 |\n",
    "|`index(element)` | 返回字体第一次出现的索引 |\n",
    "|`insert(index, element)` | 在给定索引处插入给定元素 |\n",
    "|`pop(index)` | 删除并返回给定索引处的元素；如果没有提供索引，则默认为最后一个元素 |\n",
    "|`remove(element)` | 删除列表中元素的第一个出现 |\n",
    "|`reverse()` | 反转整个列表的顺序 |\n",
    "|`sort()` | 就地对列表进行排序 |\n",
    "\n",
    "```{index}\n",
    "```\n",
    "\n",
    "下面是一个列表，包含周期表上前七个元素的质量（单位：g/mol）。它们显然不是按顺序排列的，所以可以使用 `sort()` 方法对它们进行排序。与 `sorted()` 函数（表2）不同，`sort()` 方法会修改原始列表。"
   ]
  },
  {
   "cell_type": "code",
   "execution_count": null,
   "metadata": {},
   "outputs": [],
   "source": [
    "mass = [4.00, 1.01, 6.94, 14.01, 10.81, 12.01, 9.01]"
   ]
  },
  {
   "cell_type": "code",
   "execution_count": null,
   "metadata": {},
   "outputs": [],
   "source": [
    "mass.sort()\n",
    "mass"
   ]
  },
  {
   "attachments": {},
   "cell_type": "markdown",
   "metadata": {},
   "source": [
    "列表可以使用 `reverse()` 方法进行反转。"
   ]
  },
  {
   "cell_type": "code",
   "execution_count": null,
   "metadata": {},
   "outputs": [],
   "source": [
    "mass.reverse()\n",
    "mass"
   ]
  },
  {
   "attachments": {},
   "cell_type": "markdown",
   "metadata": {},
   "source": [
    "表10中可能最有用的方法之一就是 `append()` 方法。这用于向列表中添加单个元素。`extend()` 方法与之相关，用于向列表中添加多个元素。"
   ]
  },
  {
   "cell_type": "code",
   "execution_count": null,
   "metadata": {},
   "outputs": [],
   "source": [
    "mass.append(16.00)\n",
    "mass"
   ]
  },
  {
   "cell_type": "code",
   "execution_count": null,
   "metadata": {},
   "outputs": [],
   "source": [
    "mass.extend([19.00, 20.18])\n",
    "mass"
   ]
  },
  {
   "attachments": {},
   "cell_type": "markdown",
   "metadata": {},
   "source": [
    "如果使用 `append()` 方法添加多个元素，将产生一个嵌套列表... 也就是说，如下所示，列表内部有一个列表。"
   ]
  },
  {
   "cell_type": "code",
   "execution_count": null,
   "metadata": {},
   "outputs": [],
   "source": [
    "mass.append([23.00, 24.31])\n",
    "mass"
   ]
  },
  {
   "attachments": {},
   "cell_type": "markdown",
   "metadata": {},
   "source": [
    "有时这可能是我们想要的，但在这里可能不是。\n",
    "\n",
    "```{Tip}\n",
    "`append()` 方法经常被用作一种在列表中存储生成的值的方法，就像下面计算巴尔末系列波长的示例。\n",
    "\n",
    "~~~python\n",
    "wavelengths = []\n",
    "for n in range(3,6):\n",
    "    wl = 1 / (1.097E-2 * (0.25 - 1/n**2))\n",
    "    wavelengths.append(wl)\n",
    "~~~\n",
    "```"
   ]
  },
  {
   "attachments": {},
   "cell_type": "markdown",
   "metadata": {},
   "source": [
    "### 1.6.4 `range`对象\n",
    "\n",
    "在特定范围内需要顺序的一系列值是很常见的。Python 包含一个名为`range()`的函数，它将生成所需范围内的一系列值。`range()`函数至少需要一个参数来告诉它范围应该有多高。例如，`range(10)`生成的值最高可达10，但不包括10。"
   ]
  },
  {
   "cell_type": "code",
   "execution_count": null,
   "metadata": {},
   "outputs": [],
   "source": [
    "a = range(10)\n",
    "print(a)"
   ]
  },
  {
   "attachments": {},
   "cell_type": "markdown",
   "metadata": {},
   "source": [
    "`a`的输出可能不是你预期的结果。你可能期望从0$\\rightarrow$9的列表。现在，Python3生成一个*range对象*来代替列表，因为它需要更少的内存。如果您想从中获得实际的列表，只需使用`list()`函数进行转换。"
   ]
  },
  {
   "cell_type": "code",
   "execution_count": null,
   "metadata": {},
   "outputs": [],
   "source": [
    "list(a)"
   ]
  },
  {
   "attachments": {},
   "cell_type": "markdown",
   "metadata": {},
   "source": [
    "`range()`函数还接受其他参数以进一步自定义值的范围和间距。可以向`range()`函数提供起始和停止位置，如下所示。与索引一致，范围包括起始值并排除停止值。"
   ]
  },
  {
   "cell_type": "code",
   "execution_count": null,
   "metadata": {},
   "outputs": [],
   "source": [
    "list(range(3,12))"
   ]
  },
  {
   "attachments": {},
   "cell_type": "markdown",
   "metadata": {},
   "source": [
    "最后，还可以包含一个步长。默认步长为1，但可以增加到包括负数在内的任何整数值。"
   ]
  },
  {
   "cell_type": "code",
   "execution_count": null,
   "metadata": {},
   "outputs": [],
   "source": [
    "list(range(3,20,3))"
   ]
  },
  {
   "cell_type": "code",
   "execution_count": null,
   "metadata": {},
   "outputs": [],
   "source": [
    "list(range(10,3,-1))"
   ]
  },
  {
   "attachments": {},
   "cell_type": "markdown",
   "metadata": {},
   "source": [
    "range对象可以代替列表使用。只需假设range对象实际上是一个列表。例如，可以像下面这样像列表一样对其进行索引。"
   ]
  },
  {
   "cell_type": "code",
   "execution_count": null,
   "metadata": {},
   "outputs": [],
   "source": [
    "ten = range(10)"
   ]
  },
  {
   "cell_type": "code",
   "execution_count": null,
   "metadata": {},
   "outputs": [],
   "source": [
    "ten[2]"
   ]
  },
  {
   "attachments": {},
   "cell_type": "markdown",
   "metadata": {},
   "source": [
    "### 1.6.5 元组\n",
    "\n",
    "*元组*是另一种与列表类似的对象类型，不同之处在于它们是*不可变的*...也就是说，它们在创建后无法更改。它们看起来像列表，只是使用圆括号而不是方括号。那么，一个不可更改的类列表对象有什么用途呢？有时候，你可能希望在代码中包含数据，但不希望意外地更改它。可以将它看作类似于在计算机上锁定文件以避免意外修改。虽然这个功能并不是绝对必要的，但在某些情况下可能是一种谨慎做法，以防你犯错误。\n",
    "\n",
    "下面是一个元组，其中包含前五个氢原子轨道的焦耳能量。在代码中不需要更改此数据，因此将其固定在元组中是有意义的。索引和切片在元组中的工作方式与字符串和列表完全相同，因此我们可以使用此元组来快速计算任何原子轨道对之间的能量差。"
   ]
  },
  {
   "cell_type": "code",
   "execution_count": null,
   "metadata": {},
   "outputs": [],
   "source": [
    "nrg = (-2.18e-18, -5.45e-19, -2.42e-19, -1.36e-19, -8.72e-20)"
   ]
  },
  {
   "cell_type": "code",
   "execution_count": null,
   "metadata": {},
   "outputs": [],
   "source": [
    "nrg[1] - nrg[0]"
   ]
  },
  {
   "cell_type": "code",
   "execution_count": null,
   "metadata": {},
   "outputs": [],
   "source": [
    "nrg[4] - nrg[3]"
   ]
  },
  {
   "attachments": {},
   "cell_type": "markdown",
   "metadata": {},
   "source": [
    "关于最后的输出值值得评论一下。你可能已经注意到，Python返回的值并不完全是您根据`nrg`元组中的精度所预期的。这是因为Python并不以无限精度存储值，所以这只是一个舍入误差。"
   ]
  },
  {
   "attachments": {},
   "cell_type": "markdown",
   "metadata": {},
   "source": [
    "## 1.7 循环\n",
    "\n",
    "*循环*允许程序多次运行相同的代码块。这很重要，因为通常有需要多次运行的代码部分...有时扩展到数千次。如果我们需要为每次运行的代码包含一个单独的副本，我们的脚本将会变得非常庞大。\n",
    "\n",
    "### 1.7.1 `for` 循环\n",
    "\n",
    "`for`循环可能是你最常遇到的循环。它通常用于遍历多元素对象，如列表或元组，并对每个元素执行下面的缩进代码块。例如："
   ]
  },
  {
   "cell_type": "code",
   "execution_count": null,
   "metadata": {},
   "outputs": [],
   "source": [
    "for value in [4, 6, 2]:\n",
    "    print(2 * value)"
   ]
  },
  {
   "attachments": {},
   "cell_type": "markdown",
   "metadata": {},
   "source": [
    "在`for`循环过程中，列表中的每个元素都被分配给变量`value`，然后运行下面的代码。实际上，发生的情况如下。\n",
    "\n",
    "```python\n",
    "value = 4\n",
    "print(2 * value)\n",
    "value = 6\n",
    "print(2 * value)\n",
    "value = 2\n",
    "print(2 * value)\n",
    "```\n",
    "\n",
    "这使我们能够对列表或元组中的每个元素执行数学操作。如果我们尝试将列表乘以二，我们将得到一个长度为原来两倍的列表。"
   ]
  },
  {
   "cell_type": "code",
   "execution_count": null,
   "metadata": {},
   "outputs": [],
   "source": [
    "2 * [4, 6, 2]"
   ]
  },
  {
   "attachments": {},
   "cell_type": "markdown",
   "metadata": {},
   "source": [
    "然而，`for`循环并不会修改原始列表。如果我们想要一个包含前一个列表中值的平方的列表，我们应该首先创建一个空列表，然后将平方值追加到列表中。"
   ]
  },
  {
   "cell_type": "code",
   "execution_count": null,
   "metadata": {},
   "outputs": [],
   "source": [
    "numbers = [1, 2, 3, 4, 5, 6]  # original values\n",
    "squares = []  # an empty list"
   ]
  },
  {
   "cell_type": "code",
   "execution_count": null,
   "metadata": {},
   "outputs": [],
   "source": [
    "for value in numbers:\n",
    "    squares.append(value**2)"
   ]
  },
  {
   "cell_type": "code",
   "execution_count": null,
   "metadata": {},
   "outputs": [],
   "source": [
    "squares"
   ]
  },
  {
   "attachments": {},
   "cell_type": "markdown",
   "metadata": {},
   "source": [
    "我们还可以使用`for`循环遍历范围对象和字符串。请记住，范围对象实际上不会生成列表，但我们通常可以将它们视为列表。例如，我们可以通过以下方程生成巴尔默（Balmer）系列中的波长（$\\lambda$），其中$R_{\\infty}$是里德伯（Rydberg）常数（1.097 $\\times$ $10^{-2}$ $nm^{-1}$），$n_i$ 是初始主量子数。\n",
    "\n",
    "$$ \\frac{1}{\\lambda} = R_{\\infty} \\left( \\frac{1}{4} - \\frac{1}{n_i^2} \\right) $$\n",
    "\n",
    "下面的代码生成了巴尔默系列中的前五个波长（纳米）。"
   ]
  },
  {
   "cell_type": "code",
   "execution_count": null,
   "metadata": {},
   "outputs": [],
   "source": [
    "for n in range(3,8):\n",
    "    lam = 1 / (1.097e-2 * (0.25 - (1/n**2)))\n",
    "    print(lam)"
   ]
  },
  {
   "attachments": {},
   "cell_type": "markdown",
   "metadata": {},
   "source": [
    "`for`循环也可以遍历字符串。"
   ]
  },
  {
   "cell_type": "code",
   "execution_count": null,
   "metadata": {},
   "outputs": [],
   "source": [
    "for letter in 'Linus':\n",
    "    print(letter.capitalize())"
   ]
  },
  {
   "attachments": {},
   "cell_type": "markdown",
   "metadata": {},
   "source": [
    "`for`循环的另一个常见用途是重复执行给定次数的任务。它本质上起到计数器的作用。假设我们想要确定在六个半衰期后，183.2克$^{235}U$样品还剩下多少。我们可以将其数量除以6，然后打印每次除法的结果。为了实现这一目标，我们将使用一个`for`循环遍历一个长度为6的对象，执行除法并打印每个质量。生成长度为6的可迭代对象的最简单方法是使用`range()`函数。"
   ]
  },
  {
   "cell_type": "code",
   "execution_count": null,
   "metadata": {},
   "outputs": [],
   "source": [
    "U235 = 183.2\n",
    "for x in range(6):\n",
    "    U235 = U235 / 2\n",
    "    print(str(U235) + ' g')"
   ]
  },
  {
   "attachments": {},
   "cell_type": "markdown",
   "metadata": {},
   "source": [
    "在上面的例子中，来自范围对象的值`x`在`for`循环中没有被使用。并没有规定它一定要被使用。另外，你可能已经注意到，在上述所有示例中，变量名不断改变。就像在你其他代码中一样，您也可以在`for`循环中选择您的变量。有些人喜欢用`x`作为通用变量，但通常最好给`for`循环变量一个直观的名称，以便在代码变得更复杂时容易跟踪。"
   ]
  },
  {
   "attachments": {},
   "cell_type": "markdown",
   "metadata": {},
   "source": [
    "### 1.7.2 `while` 循环\n",
    "\n",
    "另一个常见的循环是`while`循环。它用于在满足停止条件之前一直执行下面的缩进代码块。例如，在下面的`while`语句中，当`x`不再小于10时，代码块将停止运行。在执行缩进代码之前，每次都会检查`x < 10`这一终止条件。"
   ]
  },
  {
   "cell_type": "code",
   "execution_count": null,
   "metadata": {},
   "outputs": [],
   "source": [
    "x = 0\n",
    "while x < 10:\n",
    "    print(x)\n",
    "    x = x + 2  # increments by 2"
   ]
  },
  {
   "attachments": {},
   "cell_type": "markdown",
   "metadata": {},
   "source": [
    "本质上，这个过程如下面的示例所示，这将一直持续到`x`不再大于10。\n",
    "\n",
    "~~~python\n",
    "if x < 10:\n",
    "    print(x)\n",
    "    x = x + 2\n",
    "if x < 10:\n",
    "    print(x)\n",
    "    x = x + 2\n",
    "~~~\n",
    "\n",
    "`while`循环没有`for`循环常见，使用时应谨慎。这是因为很容易出现所谓的*错误终止条件*，导致代码无限执行...或者直到你手动停止Python或因内存不足而崩溃。这是因为终止条件永远不会满足，导致程序失控。\n",
    "\n",
    "```{warning}\n",
    "不要运行以下代码！这可能导致Python崩溃。\n",
    "```\n",
    "\n",
    "~~~python\n",
    "x = 0\n",
    "while x != 10:\n",
    "    x = x + 3\n",
    "    print('Done')\n",
    "~~~    \n",
    "\n",
    "在上述代码中，值递增直到达到10（记住，`!=`表示“不等于”），然后打印`'Done'`信息...至少这是预期的。然而没有任何信息被打印出来，`while`循环一直在运行。如果我们对`x`的值进行计算，我们会发现在递增3的过程中（0、3、6、9、12,...），`x`的值从未等于10，所以`while`循环永远不会停止。因此，除非绝对必要，否则最好避免使用`while`循环。如果你确实使用了`while`循环，请再三检查你的终止条件，并避免在终止条件中使用`=`或`!=`。相反，尝试使用`<=`或`>=`。这些条件不太可能失败。"
   ]
  },
  {
   "attachments": {},
   "cell_type": "markdown",
   "metadata": {},
   "source": [
    "### 1.7.3 `Continue`、`Pass`和`Break`命令\n",
    "\n",
    "其他控制代码执行流程的方法是`continue`、`pass`和`break`命令。这些命令不是经常使用，但在你需要它们的时候了解它们会很有帮助。表11总结了下面的每个语句。\n",
    "\n",
    "**表11** 循环中断\n",
    "\n",
    "| 语句       | 描述                                             |\n",
    "| :-------: | :---------------------------------------------- |\n",
    "| `break`   | 跳出最低层包含的`for`/`while`循环                    |\n",
    "| `continue` | 开始最低层包含的`for`/`while`循环的下一次迭代       |\n",
    "| `pass`     | 无操作；代码继续执行                              |\n",
    "\n",
    "`break`语句跳出最低层包含的循环。如果你想在`for`或`while`循环中提前完全停止一个条件，这是非常有用的。例如，我们可以模拟用1.0 M HCl的1 mL递增剂量滴定0.9 M NaOH。在下面的代码中，NaOH和HCl的初始体积分别为25 mL和0 mL。`for`循环连续检查HCl的摩尔数是否大于或等于NaOH的摩尔数（即，等价点）。如果没有，则HCl的体积增加1毫升。"
   ]
  },
  {
   "cell_type": "code",
   "execution_count": null,
   "metadata": {},
   "outputs": [],
   "source": [
    "vol_OH = 35\n",
    "vol_H = 0\n",
    "\n",
    "for ml in range(1, 50):\n",
    "    vol_total = vol_OH + vol_H\n",
    "    mol_OH = 0.9 * vol_OH / 1000\n",
    "    mol_H = 1.0 * vol_H / 1000\n",
    "    if mol_H >= mol_OH:\n",
    "        break \n",
    "    else:\n",
    "        vol_H = vol_H + 1\n",
    "        \n",
    "print(f'Endpoint: {vol_H} mL HCl solution')"
   ]
  },
  {
   "attachments": {},
   "cell_type": "markdown",
   "metadata": {},
   "source": [
    "如果我们使用$C_1V_1$ = $C_2V_2$公式解决这个滴定问题，其中C是浓度，V是体积，我们预计HCl的终点是31.5 mL，所以模拟的终点为32 mL是合理的。上面的模拟也可以写成一个`while`循环。`break`语句通常可以通过其他方法避免，但在真正需要它的时候能够使用它是很好的。\n",
    "\n",
    "`continue`语句与`break`类似，但它不是完全停止循环，而是只停止循环的当前迭代，并立即开始下一次循环。下面的脚本只取偶数的平方根。偶数检查是用`number % 2 == 1`执行的。如果这是`True`，那么这个数是奇数，`continue`语句会导致`for`循环继续进行下一个数。"
   ]
  },
  {
   "cell_type": "code",
   "execution_count": null,
   "metadata": {},
   "outputs": [],
   "source": [
    "numbers = [1,2,3,4,5,6,7]\n",
    "for number in numbers:\n",
    "    if number % 2 == 1:\n",
    "        continue\n",
    "    print(math.sqrt(number))"
   ]
  },
  {
   "attachments": {},
   "cell_type": "markdown",
   "metadata": {},
   "source": [
    "最后，`pass`语句什么也不做。它只是一个占位符，用于告诉Python解释器继续执行尚未编写的代码。任何完成的代码都不应该包含`pass`语句。使用`pass`的原因是为了能够在没有错误发生的情况下运行和测试代码，而这些错误是由于缺少部分而产生的。如果执行以下代码，将会因为在`else`语句下没有任何内容而发生错误。"
   ]
  },
  {
   "cell_type": "code",
   "execution_count": null,
   "metadata": {
    "editable": true,
    "slideshow": {
     "slide_type": ""
    },
    "tags": [
     "raises-exception"
    ]
   },
   "outputs": [],
   "source": [
    "pH = 5\n",
    "if pH >7:\n",
    "    print('Basic')\n",
    "else:"
   ]
  },
  {
   "attachments": {},
   "cell_type": "markdown",
   "metadata": {},
   "source": [
    "然而，如果我们添加一个`pass`语句，就不会发生错误，这让我们可以检查代码是否正常工作...除了缺少的部分。"
   ]
  },
  {
   "cell_type": "code",
   "execution_count": null,
   "metadata": {},
   "outputs": [],
   "source": [
    "pH = 5\n",
    "if pH >7:\n",
    "    print('Basic')\n",
    "else:\n",
    "    pass"
   ]
  },
  {
   "attachments": {},
   "cell_type": "markdown",
   "metadata": {},
   "source": [
    "## 1.8 文件输入/输出 (I/O)\n",
    "\n",
    "```{index} 单个：文件输入/输出；用Python\n",
    "```\n",
    "\n",
    "到目前为止，我们只处理过计算机生成的和手动输入的值、字符串、列表和元组。在研究和实验室环境中，我们经常需要处理存储在文件中的数据。这些文件可能是由仪器生成的，也可能是由人们在进行测量或观察时将值输入电子表格的结果。数据文件有两个大类：文本文件和二进制文件。*文本文件*是指当用文本编辑器打开时，可以被人类阅读的文件，而*二进制文件*则不能。读取二进制文件需要其他专门的软件，而文本文件在存储数据方面非常常见，因此我们在这里只关注文本文件。\n",
    "\n",
    "文本文件有很多种类，它们之间的不同之处仅在于文件中信息的格式。常见的例子包括逗号分隔值（CSV）、蛋白质数据库（PDB）和*xyz*坐标（XYZ）。这些文件有不同的扩展名（即文件名末尾句点后的3-4个字母），但它们都只是文本文件。你可以根据需要将扩展名更改为*.txt*，并使用任何文本编辑器或文字处理器打开它们。*.csv*、*.pdb*和*.xyz*只是一些标签，用于帮助你的计算机确定哪个软件应用程序可以并且应该打开该文件。\n",
    "\n",
    "我们将专注于CSV文件格式，因为它非常常见，许多软件应用程序可以导出CSV格式的数据。逗号分隔值文件是一种对信息进行编码的方式，否则可以将信息存储在电子表格中，电子表格应用程序可以轻松地读写CSV文件。文本文件的每一行是不同的行，行中的每个项目都用逗号分隔...因此得名。以下是CSV文件的内容以及在电子表格中的显示方式。在某些文件中，你可能会在每行的末尾看到一个`\\n`。这是一个行终止符字符，告诉某些软件应用程序一行在哪里结束。\n",
    "\n",
    "![](https://bohrium-example.oss-cn-zhangjiakou.aliyuncs.com/notebook/SciCompforChemists/notebooks/chapter_01/img/csv_file.png)\n",
    "\n",
    "### 1.8.1. 使用Python读取行\n",
    "\n",
    "我们将要介绍的读取文本文件的第一种方法是使用Python逐行读取文本文件。这种方法需要比本书中的其他方法多一点努力，但它也提供了更多的控制。\n",
    "\n",
    "这种方法有三个基本步骤：打开文件，逐行读取，关闭文件。使用`open()`函数打开文件。确保将文件附加到一个可以稍后访问的变量。然后，使用`readlines()`方法一次读取一行数据。由于我们需要反复执行相同的任务，我们将使用一个`for`循环。最后，使用`close()`命令关闭文件是一个很好的做法。下面演示了在一个名为 *squares.csv* 的文件中打开上面显示的数据的过程。\n",
    "\n",
    "````{margin}\n",
    "```{note}\n",
    "除非另有说明，否则Python会在与Jupyter笔记本相同的目录（文件夹）中搜索文件。如果文件不在此目录中，请务必提供指向文件的路径。\n",
    "```\n",
    "````\n",
    "\n",
    "```{note}\n",
    "在本地计算机上安装软件和使用Google Colab之间的一个主要区别是，如果你希望Colab能够与你的Google Drive上的数据或图像文件进行交互，你需要在笔记本的顶部包含下面显示的三行额外代码。前两行授权笔记本读取/写入您的Google Drive上的文件，而第三行（`%cd /content/drive/My Drive/project`）将您的笔记本指向存放您的文件的位置。路径应反映包含笔记本和数据文件的文件夹的位置。例如，如果您的笔记本包含在名为`project`的Google Drive文件夹中，则路径将是`/content/drive/My Drive/project`。\n",
    "\n",
    "~~~python\n",
    "from google.colab import drive\n",
    "drive.mount('/content/drive')\n",
    "\n",
    "%cd /content/drive/My Drive/project\n",
    "~~~\n",
    "```"
   ]
  },
  {
   "attachments": {},
   "cell_type": "markdown",
   "metadata": {},
   "source": [
    "准备文件"
   ]
  },
  {
   "cell_type": "code",
   "execution_count": null,
   "metadata": {},
   "outputs": [],
   "source": [
    "! wget https://bohrium-example.oss-cn-zhangjiakou.aliyuncs.com/notebook/SciCompforChemists/notebooks/chapter_01/data/squares.csv"
   ]
  },
  {
   "cell_type": "code",
   "execution_count": null,
   "metadata": {},
   "outputs": [],
   "source": [
    "file = open('squares.csv')\n",
    "for line in file.readlines():\n",
    "    print(line)\n",
    "file.close()"
   ]
  },
  {
   "attachments": {},
   "cell_type": "markdown",
   "metadata": {},
   "source": [
    "它成功了！上面的代码读取了每一行并打印了内容。当然，这种形式并不是特别有用。将它们转换为列表会更有用。我们可以通过创建一些空列表并在读取值时将它们追加到这些列表中来解决这个问题。"
   ]
  },
  {
   "cell_type": "code",
   "execution_count": null,
   "metadata": {},
   "outputs": [],
   "source": [
    "file = open('squares.csv')\n",
    "\n",
    "numbers = []\n",
    "squares = []\n",
    "\n",
    "for line in file.readlines():\n",
    "    fields = line.split(',')        # splits line at comma\n",
    "    numbers.append(int(fields[0]))\n",
    "    squares.append(int(fields[1]))\n",
    "\n",
    "file.close()"
   ]
  },
  {
   "attachments": {},
   "cell_type": "markdown",
   "metadata": {},
   "source": [
    "现在这些值被分成了两个独立的列表。第一个值位于 `numbers` 列表中，而这些数的平方位于 `squares` 列表中。"
   ]
  },
  {
   "cell_type": "code",
   "execution_count": null,
   "metadata": {},
   "outputs": [],
   "source": [
    "numbers"
   ]
  },
  {
   "cell_type": "code",
   "execution_count": null,
   "metadata": {},
   "outputs": [],
   "source": [
    "squares"
   ]
  },
  {
   "attachments": {},
   "cell_type": "markdown",
   "metadata": {},
   "source": [
    "虽然上述方法工作正常，但最佳实践是在一个 *上下文* 内读取文件，这样即使发生错误，文件仍然会被正确地关闭。这可以通过使用 `with` 语句来完成，如下所示。不需要显式地关闭文件，因为它已经为您完成了。"
   ]
  },
  {
   "cell_type": "code",
   "execution_count": null,
   "metadata": {},
   "outputs": [],
   "source": [
    "with open('squares.csv') as file:\n",
    "    for line in file.readlines():\n",
    "        print(line)"
   ]
  },
  {
   "attachments": {},
   "cell_type": "markdown",
   "metadata": {},
   "source": [
    "### 1.8.2 使用Python写入数据\n",
    "\n",
    "Python还可以使用 `write()` 函数将数据写入文件，该函数接受一个字符串并将其写入文件。在执行此操作之前，需要使用 `open()` 函数打开文件，该函数需要要写入的文件的名称，如果文件不存在，则使用此名称创建一个新文件。`open()` 函数有一个可选的第二个参数，用于设置打开文件的模式。有许多模式，但常见的模式包括 `'w'` 仅写入模式，`'r'` 仅读取模式，`'a'` 追加模式。后者将任何新文本添加到已存在文件的末尾。\n",
    "\n",
    "在下面的示例中，一个包含嵌套列表的列表 `angular` 将角量子数和形状写入到一个新文件中。在每个嵌套列表（即，角量子数和形状对）之后是一个行终止符 `\\n`。由于以下代码使用 `with` 语句在上下文中打开文件，因此无需显式关闭文件，因为这已自动完成。"
   ]
  },
  {
   "cell_type": "code",
   "execution_count": null,
   "metadata": {},
   "outputs": [],
   "source": [
    "angular = [['l', 'shape'], [0, 's'], [1, 'p'], \n",
    "            [2, 'd'], [3, 'f']]\n",
    "\n",
    "with open('new_file.csv', 'w') as file:\n",
    "    for row in angular:\n",
    "        file.write('{0}, {1} \\n'.format(row[0], row[1]))"
   ]
  },
  {
   "attachments": {},
   "cell_type": "markdown",
   "metadata": {},
   "source": [
    "### 1.8.3 使用 `np.genfromtxt()` 读取数据\n",
    "\n",
    "读取文件数据的第二种方法是使用来自 NumPy 库的名为 `genfromtxt()` 的函数。在使用 NumPy 之前，我们需要使用 `import numpy as np` 导入它。`np.genfromtxt()` 函数在读取文本文件时需要两个必需的参数：文件名和分隔符。*分隔符* 是分隔每行中值的符号，可以是包括空格或制表符在内的几乎任何符号。如果遇到制表符分隔的数据，请使用 `delimiter='\\t'`，对于逗号分隔值（CSV）文件，请使用 `delimiter=','`。\n",
    "\n",
    "~~~python\n",
    "np.genfromtxt('file_name', delimiter='')\n",
    "~~~"
   ]
  },
  {
   "cell_type": "code",
   "execution_count": null,
   "metadata": {},
   "outputs": [],
   "source": [
    "import numpy as np"
   ]
  },
  {
   "cell_type": "code",
   "execution_count": null,
   "metadata": {},
   "outputs": [],
   "source": [
    "file = np.genfromtxt('squares.csv', delimiter=',')\n",
    "file"
   ]
  },
  {
   "attachments": {},
   "cell_type": "markdown",
   "metadata": {},
   "source": [
    "此函数的输出称为 *NumPy 数组*。它类似于列表，但功能更强大。如果我们想知道4的平方，我们可以使用索引访问该值。"
   ]
  },
  {
   "cell_type": "code",
   "execution_count": null,
   "metadata": {},
   "outputs": [],
   "source": [
    "file[4][1]"
   ]
  },
  {
   "attachments": {},
   "cell_type": "markdown",
   "metadata": {},
   "source": [
    "`np.genfromtxt()` 函数的另一个特性是可选参数 `skip_header=`。它指示函数在文件的某些行之后忽略数据。这很有帮助，因为文件通常包含提供关于数据的仪器、日期、时间和其他详细信息的非数据头。一个数据文件可能如下所示：\n",
    "\n",
    "    2017年7月7日\n",
    "    数字，平方\n",
    "    1, 1\n",
    "    2, 4\n",
    "    3, 9\n",
    "    4, 16\n",
    "    5, 25\n",
    "    6, 36\n",
    "    7, 49\n",
    "    8, 64\n",
    "    9, 81\n",
    "    10, 100\n",
    "\n",
    "在这种情况下，我们需要该函数跳过前两行，如下所示。"
   ]
  },
  {
   "attachments": {},
   "cell_type": "markdown",
   "metadata": {},
   "source": [
    "文件准备"
   ]
  },
  {
   "cell_type": "code",
   "execution_count": null,
   "metadata": {},
   "outputs": [],
   "source": [
    "! wget https://bohrium-example.oss-cn-zhangjiakou.aliyuncs.com/notebook/SciCompforChemists/notebooks/chapter_01/data/header_file.csv"
   ]
  },
  {
   "cell_type": "code",
   "execution_count": null,
   "metadata": {},
   "outputs": [],
   "source": [
    "file = np.genfromtxt('header_file.csv', delimiter=',', skip_header=2)\n",
    "file"
   ]
  },
  {
   "attachments": {},
   "cell_type": "markdown",
   "metadata": {},
   "source": [
    "````{margin}\n",
    "```{note}\n",
    "NumPy 还有一个类似于 `np.genfromtxt()` 的函数叫做 `np.loadtxt()`，你可能会看到它。这两个函数相似，但 `np.genfromtxt()` 还可以读取有缺失数据的文件，而 `np.loadtxt()` 则不能。\n",
    "```\n",
    "````"
   ]
  },
  {
   "attachments": {},
   "cell_type": "markdown",
   "metadata": {},
   "source": [
    "### 1.8.4 使用 `np.savetxt()` 读取数据\n",
    "\n",
    "将数据写回文件的最简单方法之一是再次使用 NumPy 函数 `np.savetxt()`，它需要一个文件名作为字符串和数据。还建议使用 `delimiter=` 关键字参数将分隔符作为字符串包含在内。此函数可以从列表、元组或 NumPy 数组中写入文件，如果列表或元组是嵌套的，则写入文件中的每个内部列表/元组都是一个行。\n",
    "\n",
    "~~~python\n",
    "np.savetxt('file_name', data, delimiter='')\n",
    "~~~\n",
    "\n",
    "作为示例，下面是一个嵌套列表，包含温度（$^{\\circ}C$）和每个温度下的水密度（g/mL）。这些数据被保存到一个名为 *water_density.csv* 的文件中，每个值用逗号分隔。\n"
   ]
  },
  {
   "cell_type": "code",
   "execution_count": null,
   "metadata": {},
   "outputs": [],
   "source": [
    "# temp(C), density(g/mL)\n",
    "H2O_dens = [[10, 0.999], [20, 0.998], [30, 0.996], \n",
    "            [40, 0.992], [60, 0.983], [80, 0.972]]\n",
    "\n",
    "np.savetxt('water_density.csv', H2O_dens, delimiter=',')"
   ]
  },
  {
   "attachments": {},
   "cell_type": "markdown",
   "metadata": {},
   "source": [
    "## 1.9 创建函数\n",
    "\n",
    "在编程一段时间后，你可能会发现自己在重复执行相同的任务。例如，假设你的研究让你根据原子的 *xyz* 坐标反复计算两个原子之间的距离。当然，每次需要找到两个原子之间的距离时，您都可以重写或复制粘贴相同的代码，但那听起来很糟糕。你可以通过创建自己的函数来计算距离来避免这种情况。这样，每次需要计算一对原子之间的距离时，您都可以调用该函数，并执行位于函数中的相同代码段。你只需要编写一次代码，然后可以根据需要执行任意次数。\n",
    "\n",
    "### 1.9.1 基本函数\n",
    "\n",
    "要创建自己的函数，首先需要为函数命名。名称应描述其功能，并对您和任何可能使用它的人有意义。如果我们想创建一个用于测量两个原子之间距离的函数，`distance` 可能是一个很好的函数名称。\n",
    "\n",
    "函数定义的第一行看起来像以下内容：`def` 语句后跟函数名，函数名后跟输入到函数中的任何信息（称为 *arguments*），最后是冒号。在这个函数中，我们将为两个原子的 *xyz* 坐标输入一对列表或元组。在函数名称后面的括号中，放置您想要用来表示这些坐标的变量名。我们将在这里使用 `coords1` 和 `coords2`。\n",
    "\n",
    "~~~python\n",
    "def distance(coords1, coords2):\n",
    "~~~\n",
    "\n",
    "函数内的所有内容都在第一行下方缩进四个空格。三维空间中两点之间的距离由以下方程描述。\n",
    "\n",
    "$$ \\sqrt{(\\Delta x)^2 + (\\Delta y)^2 + (\\Delta z)^2} $$\n",
    "\n",
    "现在需要将它编码到函数中。因为我们要取平方根，所以还需要导入 `math` 模块。"
   ]
  },
  {
   "cell_type": "code",
   "execution_count": null,
   "metadata": {},
   "outputs": [],
   "source": [
    "import math"
   ]
  },
  {
   "cell_type": "code",
   "execution_count": null,
   "metadata": {},
   "outputs": [],
   "source": [
    "def distance(coords1, coords2):     \n",
    "# changes along the x, y, and z coordinates\n",
    "    dx = coords1[0] - coords2[0]\n",
    "    dy = coords1[1] - coords2[1]\n",
    "    dz = coords1[2] - coords2[2]\n",
    "\n",
    "    d = math.sqrt(dx**2 + dy**2 + dz**2)\n",
    "\n",
    "    print(f'The distance is: {d}')"
   ]
  },
  {
   "attachments": {},
   "cell_type": "markdown",
   "metadata": {},
   "source": [
    "如果运行上述代码，似乎什么都没有发生。这是因为您定义了函数，但实际上从未使用过它。在Python中调用我们的新函数的方法与调用其他任何函数的方法相同。"
   ]
  },
  {
   "cell_type": "code",
   "execution_count": null,
   "metadata": {},
   "outputs": [],
   "source": [
    "distance((1,2,3), (4,5,6))"
   ]
  },
  {
   "attachments": {},
   "cell_type": "markdown",
   "metadata": {},
   "source": [
    "它有效！这个函数输出一个消息，显示两个 *xyz* 坐标之间的距离，更好的部分是我们可以一遍又一遍地使用它，而不必处理函数代码。"
   ]
  },
  {
   "cell_type": "code",
   "execution_count": null,
   "metadata": {},
   "outputs": [],
   "source": [
    "distance((5,2,3), (7, 5.3, 9))"
   ]
  },
  {
   "attachments": {},
   "cell_type": "markdown",
   "metadata": {},
   "source": [
    "### 1.9.2 返回语句\n",
    "\n",
    "`distance()` 函数输出距离的值，但如果我们想用这个值进行后续计算怎么办？也许我们想计算多对原子之间距离的平均值。我们当然不想把这些值重新输入到 Python 中，所以我们可以让函数 *返回* 这个值。你可以把函数看作是一个小机器，括号里的参数是输入，函数末尾的返回值是从机器里输出的。下面是我们的 `distance()` 函数的修改版，其中有一个 `return` 语句，而不是打印值。通过运行以下代码，它将覆盖上面的函数。"
   ]
  },
  {
   "cell_type": "code",
   "execution_count": null,
   "metadata": {},
   "outputs": [],
   "source": [
    "def distance(coords1, coords2):\n",
    "# changes along the x, y, and z coordinates\n",
    "    dx = coords1[0] - coords2[0]\n",
    "    dy = coords1[1] - coords2[1]\n",
    "    dz = coords1[2] - coords2[2]\n",
    "\n",
    "    d = math.sqrt(dx**2 + dy**2 + dz**2)\n",
    "\n",
    "    return d"
   ]
  },
  {
   "cell_type": "code",
   "execution_count": null,
   "metadata": {},
   "outputs": [],
   "source": [
    "distance([5,6,7], [3,2,1])"
   ]
  },
  {
   "attachments": {},
   "cell_type": "markdown",
   "metadata": {},
   "source": [
    "现在这个函数返回一个浮点数。我们可以将它分配给一个变量或将它添加到一个列表中以供后续使用。"
   ]
  },
  {
   "cell_type": "code",
   "execution_count": null,
   "metadata": {},
   "outputs": [],
   "source": [
    "dist = distance([5,6,7], [3,2,1])"
   ]
  },
  {
   "cell_type": "code",
   "execution_count": null,
   "metadata": {},
   "outputs": [],
   "source": [
    "dist"
   ]
  },
  {
   "attachments": {},
   "cell_type": "markdown",
   "metadata": {},
   "source": [
    "下面是遍历一组 *xyz* 坐标对并计算每对之间距离的代码。这些值被添加到一个名为 `dist_list` 的列表中，从该列表中计算出平均距离。"
   ]
  },
  {
   "cell_type": "code",
   "execution_count": null,
   "metadata": {},
   "outputs": [],
   "source": [
    "pairs = (((1,2,3),(2,3,4)), ((3,7,1), (9,3,0)), ((0,0,1), (5,2,7)))"
   ]
  },
  {
   "cell_type": "code",
   "execution_count": null,
   "metadata": {},
   "outputs": [],
   "source": [
    "dist_list = []\n",
    "for pair in pairs:\n",
    "    dist = distance(pair[0], pair[1])\n",
    "    dist_list.append(dist)"
   ]
  },
  {
   "cell_type": "code",
   "execution_count": null,
   "metadata": {},
   "outputs": [],
   "source": [
    "avg = sum(dist_list)/len(dist_list)"
   ]
  },
  {
   "cell_type": "code",
   "execution_count": null,
   "metadata": {},
   "outputs": [],
   "source": [
    "avg"
   ]
  },
  {
   "attachments": {},
   "cell_type": "markdown",
   "metadata": {},
   "source": [
    "### 1.9.3 局部变量作用域\n",
    "\n",
    "```{index} 作用域\n",
    "```\n",
    "\n",
    "使用函数的另一个优点是它们在*局部作用域*中维护变量。也就是说，任何在函数*内部*创建的变量在函数外部都是无法访问的。如果您回顾一下我们的 `distance()` 函数，变量 `d` 只在函数内部使用。如果我们尝试查看附加到 `d` 的内容，我们会得到以下错误消息。"
   ]
  },
  {
   "cell_type": "code",
   "execution_count": null,
   "metadata": {
    "tags": [
     "raises-exception"
    ]
   },
   "outputs": [],
   "source": [
    "d"
   ]
  },
  {
   "attachments": {},
   "cell_type": "markdown",
   "metadata": {},
   "source": [
    "这是因为变量 `d` 只能在 `distance()` 函数内部使用或访问。这通常非常方便，因为我们不必担心覆盖一个变量或使用它两次。这意味着，如果一个合作者给你发送了他/她编写的一个函数，你不需要担心你的代码中的一个变量是否与你的合作者的函数中的一个变量相同。函数是自包含的，使一切变得更简单。\n",
    "\n",
    "显然，函数内部局部作用域中的变量的缺点是无法直接访问它们。如果您确实需要访问函数中的一个变量，请将其放在函数末尾的 `return` 语句中，以便函数输出该内容。或者，您还可以将函数内部的一个变量的内容分配给在函数外部创建的一个变量。例如，一个函数可以将值附加到在函数外部创建的列表中，如下所示，该列表可以在任何地方查看。这是可行的，因为在函数外部创建的任何东西都是可见的，并且被认为具有*全局作用域*。"
   ]
  },
  {
   "cell_type": "code",
   "execution_count": null,
   "metadata": {},
   "outputs": [],
   "source": [
    "def roots(numbers):\n",
    "    for number in numbers:\n",
    "        value = math.sqrt(number)\n",
    "        square_roots.append(value)"
   ]
  },
  {
   "cell_type": "code",
   "execution_count": null,
   "metadata": {},
   "outputs": [],
   "source": [
    "square_roots = []"
   ]
  },
  {
   "cell_type": "code",
   "execution_count": null,
   "metadata": {},
   "outputs": [],
   "source": [
    "roots(range(10))"
   ]
  },
  {
   "cell_type": "code",
   "execution_count": null,
   "metadata": {},
   "outputs": [],
   "source": [
    "square_roots"
   ]
  },
  {
   "attachments": {},
   "cell_type": "markdown",
   "metadata": {},
   "source": [
    "### 1.9.4 参数\n",
    "\n",
    "函数通过在函数名后的括号中放置*参数*来获取数据。不同的函数需要不同数量和类型的参数，从零个到可能的几十个参数。函数参数有时也是可选的。有些函数允许用户通过参数添加额外的数据或更改函数的行为。\n",
    "\n",
    "第一种类型的参数是*位置参数*。这是需要在括号内的特定位置的参数。例如，下面的函数分别接收质子和中子的数量，并输出同位素名称。此函数仅适用于周期表上的前十个元素。"
   ]
  },
  {
   "cell_type": "code",
   "execution_count": null,
   "metadata": {
    "editable": true,
    "slideshow": {
     "slide_type": ""
    },
    "tags": [
     "raises-exception"
    ]
   },
   "outputs": [],
   "source": [
    "def isotope(protons, neutrons):\n",
    "    elements = ('H', 'He', 'Li', 'Be', 'B', 'C', 'N', 'O', 'F', 'Ne')\n",
    "    symbol = elements[protons - 1]\n",
    "    mass = str(protons + neutrons)\n",
    "\n",
    "    print(f'{mass}{symbol}')"
   ]
  },
  {
   "attachments": {},
   "cell_type": "markdown",
   "metadata": {},
   "source": [
    "如果我们想知道同位素包含六个质子和七个中子，我们输入值 `isotope(6, 7)`，然后得到预期的 `13C`。然而，如果我们将参数切换为 `isotope(7,6)`，我们得到的是 `13N`，这是不正确的。位置参数非常常见，但用户需要知道在调用函数时哪些信息放在哪里。"
   ]
  },
  {
   "cell_type": "code",
   "execution_count": null,
   "metadata": {},
   "outputs": [],
   "source": [
    "isotope(6, 7)"
   ]
  },
  {
   "cell_type": "code",
   "execution_count": null,
   "metadata": {},
   "outputs": [],
   "source": [
    "isotope(7,6)"
   ]
  },
  {
   "attachments": {},
   "cell_type": "markdown",
   "metadata": {},
   "source": [
    "另一种常见的参数类型是*关键字参数*。这些参数在括号内附加到关键字上。关键字参数的优点是，只要参数具有正确的标签，用户就不需要关心参数顺序。下面是使用关键字参数重新定义的相同的 `isotope()` 函数。"
   ]
  },
  {
   "cell_type": "code",
   "execution_count": null,
   "metadata": {},
   "outputs": [],
   "source": [
    "def isotope(protons=1, neutrons=0):\n",
    "    elements = ('H', 'He', 'Li', 'Be', 'B', 'C', 'N', 'O', 'F', 'Ne')\n",
    "    symbol = elements[protons - 1]\n",
    "    mass = str(protons + neutrons)\n",
    "    \n",
    "    print(f'{mass}{symbol}')"
   ]
  },
  {
   "cell_type": "code",
   "execution_count": null,
   "metadata": {},
   "outputs": [],
   "source": [
    "isotope(protons=1, neutrons=2)"
   ]
  },
  {
   "attachments": {},
   "cell_type": "markdown",
   "metadata": {},
   "source": [
    "现在，如果我们切换顺序，我们仍然得到相同的结果。"
   ]
  },
  {
   "cell_type": "code",
   "execution_count": null,
   "metadata": {},
   "outputs": [],
   "source": [
    "isotope(neutrons=2, protons=1)"
   ]
  },
  {
   "attachments": {},
   "cell_type": "markdown",
   "metadata": {},
   "source": [
    "关键字参数的另一个优点是可以在函数中轻松编码默认值。看一下最近版本的 `isotope()` 函数，您会注意到 `protons` 被赋值为 `1`，而 `neutrons` 被赋值为 `0`。这些是默认值。如果我们在不输入这些值的情况下调用该函数，函数将使用这些默认值。"
   ]
  },
  {
   "cell_type": "code",
   "execution_count": null,
   "metadata": {},
   "outputs": [],
   "source": [
    "isotope()"
   ]
  },
  {
   "cell_type": "code",
   "execution_count": null,
   "metadata": {},
   "outputs": [],
   "source": [
    "isotope(neutrons=2)"
   ]
  },
  {
   "attachments": {},
   "cell_type": "markdown",
   "metadata": {},
   "source": [
    "### 1.9.5 文档字符串\n",
    "\n",
    "```{index} 文档字符串\n",
    "```\n",
    "\n",
    "函数的最后一个组成部分是文档字符串。严格来说，这对于函数的工作并不是必需的，有时对于简单的函数会省略，但养成包含它们的好习惯是很有必要的。特别是当你为一个大型项目创建函数或将其传递给其他人时。*文档字符串*是一个放在函数定义顶部的字符串，描述函数的作用、接受的数据类型以及函数最后返回的内容。传统上，文档字符串用三个引号括起来。文档字符串的第一行描述了进入函数的数据类型以及输出的内容。在上面的 `distance()` 函数中，我们的函数接受一对列表或元组，并输出一个单一值，所以第一行可能看起来是这样的。\n",
    "\n",
    "~~~python\n",
    "def distance(coords1, coords2):\n",
    "    '''(list/tuple, list/tuple) -> float\n",
    "    '''\n",
    "~~~\n",
    "\n",
    "文档字符串中的后续行可以包含其他信息，如函数操作的更完整描述，甚至是简短的示例。"
   ]
  },
  {
   "cell_type": "code",
   "execution_count": null,
   "metadata": {},
   "outputs": [],
   "source": [
    "def distance(coords1, coords2):\n",
    "    '''(list/tuple, list/tuple) -> float\n",
    "    Takes in the xyz coordinates as lists or tuples for \n",
    "    two atoms and returns the distance between them.\n",
    "    \n",
    "    distance((1,2,3), (4,5,6)) -> 5.196152422706632\n",
    "    '''\n",
    "     \n",
    "    # changes along the x, y, and z coordinates\n",
    "    dx = coords1[0] - coords2[0]\n",
    "    dy = coords1[1] - coords2[1]\n",
    "    dz = coords1[2] - coords2[2]\n",
    "    d = math.sqrt(dx**2 + dy**2 + dz**2)\n",
    "    \n",
    "    return d"
   ]
  },
  {
   "attachments": {},
   "cell_type": "markdown",
   "metadata": {},
   "source": [
    "创建文档字符串后，可以通过输入函数名（包括括号）并将光标保持在括号内来访问它。然后按 **Shift + Tab** 查看文档字符串。"
   ]
  },
  {
   "attachments": {},
   "cell_type": "markdown",
   "metadata": {},
   "source": [
    "## 参考\n",
    "[https://github.com/weisscharlesj/SciCompforChemists](https://github.com/weisscharlesj/SciCompforChemists)"
   ]
  },
  {
   "attachments": {},
   "cell_type": "markdown",
   "metadata": {},
   "source": [
    "## 练习"
   ]
  },
  {
   "attachments": {},
   "cell_type": "markdown",
   "metadata": {},
   "source": [
    "1. 一个容量为 1.6285 L（$V$）的瓶子中含有 1.220 摩尔（$n$）的理想气体，温度为 273.0 K（$T$）。通过将所有值赋给变量并对变量进行数学运算，计算上述系统的压力（$P$）。请记住，$PV = nRT$ 描述了 $V$、$n$、$P$ 和 $T$ 之间的关系，其中 $R$ 是 0.08206 L·atm/mol·K。\n",
    "\n",
    "2. 首先使用 `math.hypot()` 函数计算 *xy* 平面上点 (23, 81) 到原点的距离，然后使用以下距离方程计算。\n",
    "\n",
    "    $$ \\sqrt{(\\Delta x)^2 + (\\Delta y)^2)} $$\n",
    "\n",
    "\n",
    "3. 将 x 赋值为 12，然后在不输入 “x = 32” 的情况下将其值增加 32。\n",
    "\n",
    "4. 使用下面的二次公式解二次方程，其中 a = 1，b = 2，c = 1。\n",
    "\n",
    "    $$ x = \\frac{-b \\pm \\sqrt{b^2 - 4ac}}{2a}  $$\n",
    "\n",
    "5. 创建以下变量 `elements = 'NaKBrClNOUP'` 并对其进行切片，以获得以下字符串。 \n",
    "\n",
    "    ~~~python\n",
    "    elements = 'NaKBrClNOUP'\n",
    "    ~~~\n",
    "\n",
    "\n",
    "    a. NaK\n",
    "\n",
    "    b. UP\n",
    "\n",
    "    c. KBr\n",
    "\n",
    "    d. NKrlOP\n",
    "\n",
    "6. 单键由一个σ键组成，而双键包括一个σ键加上一个π键。以下字符串包含典型的 C-C 单键和 C=C 双键的键能（kJ/mol）。对 CC_single 和 CC_double 进行数学运算，估计一个π键对 C=C 双键贡献了多少能量。\n",
    "\n",
    "    ~~~python\n",
    "    CC_single = \"345\"\n",
    "    CC_double = \"611\"\n",
    "    ~~~\n",
    "\n",
    "\n",
    "7. 删除文件扩展名\n",
    "\n",
    "    a) 编写一个 Python 脚本，输入一个 PNG 图像的名称（即名称总是以“.png”结尾），并使用 [字符串方法](1.3.3) 删除“.png”文件扩展名。\n",
    "\n",
    "    b) 编写一个 Python 脚本，使用 [切片](1.3.2) 从文件名中删除文件扩展名。您可以假设文件扩展名总是由一个句点（例如 .png、.pdf、.txt 等）和三个字母组成。\n",
    "\n",
    "\n",
    "8. 对于 `DNA = 'ATTCGCCGCTTA'`，使用 [布尔逻辑](1.4) 来证明 DNA 序列是回文序列（正向和反向相同）。提示：这将需要一个布尔逻辑运算符来评估为 `True`。\n",
    "\n",
    "    ~~~python\n",
    "    DNA = 'ATTCGCCGCTTA\n",
    "    ~~~\n",
    "\n",
    "\n",
    "9. 以下是锂、碳和钠的原子序数。将每个值分配给一个变量，并使用 Python 布尔逻辑运算符评估以下内容。\n",
    "\n",
    "    ~~~python\n",
    "    Li, C, Na = 3, 6, 11\n",
    "    ~~~\n",
    "         \n",
    "         \n",
    "    a) Li 是否大于 C？\n",
    "\n",
    "    b) Na 是否小于或等于 C？\n",
    "    \n",
    "    c) Li 或 Na 是否大于 C？\n",
    "\n",
    "    d) C 和 Na 是否都大于 Li？\n",
    "         \n",
    "10. 编写一个 Python 脚本，可以输入以下任何一个分子式作为字符串，并在溶于水时打印出该化合物是酸性、碱性还是中性化合物。该脚本不应包含预先分类的化合物列表，而是根据公式判断分子的类别。提示：首先在以下集合中的酸和碱公式中寻找规律。\n",
    "\n",
    "    |      |      |     |        |        |     |\n",
    "    |------|------|-----|-------|--------|------|\n",
    "    | HCl  | NaOH | KCl | H2SO4 | Ca(OH)2 | KOH |\n",
    "    | HNO3  | Na2SO4 | KNO3 | Mg(OH)2 | HCO2H | NaBr |\n",
    "\n",
    "11. 编写一个 Python 脚本，输入电子数和质子数，判断化合物是阳离子、阴离子还是中性。\n",
    "\n",
    "12. 创建一个从 18 到 88（包括 88）的偶数列表。使用列表方法，按顺序对同一个列表执行以下转换：\n",
    "\n",
    "    a) 反转列表\n",
    "\n",
    "    b) 删除最后一个值（即 18）\n",
    "\n",
    "    c) 添加 16\n",
    "\n",
    "13. 在 Jupyter 笔记本中：\n",
    "\n",
    "    a) 创建一个从 18 到 320（包括 320）的偶数元组。\n",
    "\n",
    "    b) 您可以反转、删除或向元组添加值吗？\n",
    "\n",
    "14. 以下代码生成一个从 0 到 20 的随机整数列表。运行代码并测试列表中是否有 7。\n",
    "    ~~~python\n",
    "    import random\n",
    "    nums = [random.randint(0,20) for x in range(10)]\n",
    "    ~~~\n",
    "      \n",
    "    \n",
    "15. 将一个句子（字符串）附加到一个变量。\n",
    "\n",
    "    a) 将所有字母转换为小写，并使用 `split()` 字符串方法将句子拆分为单个字符。这将生成一个单词列表。\n",
    "\n",
    "    b) 修改列表（即列表本身会发生变化），使字符按字母顺序排列。提示：使用列表和字符串方法。\n",
    "\n",
    "\n",
    "16. 使用 `for` 循环，遍历一个范围对象，并将每个值的 2 倍添加到名为 double 的列表中。\n",
    "\n",
    "17. 编写一个 Python 脚本，打印出“PV = nRT”二十次。\n",
    "\n",
    "18. 编写一个脚本，生成以下输出，而不是自己输入。确保包含带有空格的单位标签。\n",
    "\n",
    "    `1000 g`\n",
    "\n",
    "    `500.0 g`\n",
    "\n",
    "    `250.0 g`\n",
    "\n",
    "    `125.0 g`\n",
    "\n",
    "    `62.5 g`\n",
    "\n",
    "    `31.25 g`\n",
    "\n",
    "19. 同位素 $^{137}Cs$ 的半衰期约为 30.2 年。使用 `while` 循环，确定 500.0 克样品在剩余少于 10.00 克时要经历多少个半衰期。为了实现这一目标，在每个 `while` 循环中创建一个计数器（`counter = 0`）并在每次循环中将计数器加1来进行计数。\n",
    "\n",
    "20. 什么是错误的终止条件，以及如何防止它们？除了不使用 `while` 循环。\n",
    "    对于以下两个文件 I/O 问题，请先运行以下代码以生成一个包含模拟动力学数据的测试文件。\n",
    "\n",
    "    ~~~python\n",
    "    import math\n",
    "    with open('test.csv', 'a') as file:\n",
    "        file.write('time, [A] \\n')\n",
    "        for t in range(20):\n",
    "            file.write('%s, %s \\n' % (t, math.exp(-0.5*t)))\n",
    "    ~~~\n",
    "\n",
    "\n",
    "21. 使用 Python 的原生 `open()` 和 `readlines()` 函数，打开 **test.txt** 文件并打印每一行。\n",
    "\n",
    "22. 使用[`np.genfromtxt()`](1.8.2)，读取**test.txt**文件，并将时间值追加到一个列表中，将浓度值追加到另一个列表中。你需要跳过文件中的一行。\n",
    "\n",
    "23. 编写并测试一个带有文档字符串的函数，该函数在提供体积、温度和气体摩尔数（R = 0.08206 L·atm/mol·K）时求解理想气体定律的压力，并附带以下规定：\n",
    "\n",
    "    a) 创建一个只接受位置参数的函数版本。\n",
    "\n",
    "    b) 创建一个只接受关键字参数的函数副本。尝试使用位置参数测试此函数。它是否仍然有效？\n",
    "\n",
    "24. 完成下面函数，该函数使用微分速率定律（Rate = k[A]$^n$）计算单步化学反应nA → P的速率。\n",
    "\n",
    "    ~~~python\n",
    "    def rate(A0, k=1.0, n=1):\n",
    "        ''' (concentration(M), k = 1.0, n = 1) → rate (M/s)\n",
    "        Takes in the concentration of A (M), the rate constant (k), \n",
    "        and the order (n) and returns the rate (M/s)\n",
    "        '''   \n",
    "    ~~~\n",
    "\n",
    "\n",
    "25. DNA由两条腺苷（A）、胸苷（T）、鸟苷（G）和胞嘧啶（C）的核苷酸组成。这两条链排列在一起，使腺苷总是与胸苷相对，鸟苷与胞嘧啶相对。例如，如果一条链是ATGGC，那么相对的链是TACCG。编写一个函数，接收一个表示DNA链的字符串，并打印出相对的核苷酸DNA链。"
   ]
  },
  {
   "attachments": {},
   "cell_type": "markdown",
   "metadata": {},
   "source": []
  }
 ],
 "metadata": {
  "kernelspec": {
   "display_name": "Python 3 (ipykernel)",
   "language": "python",
   "name": "python3"
  },
  "language_info": {
   "codemirror_mode": {
    "name": "ipython",
    "version": 3
   },
   "file_extension": ".py",
   "mimetype": "text/x-python",
   "name": "python",
   "nbconvert_exporter": "python",
   "pygments_lexer": "ipython3",
   "version": "3.10.4"
  }
 },
 "nbformat": 4,
 "nbformat_minor": 4
}
