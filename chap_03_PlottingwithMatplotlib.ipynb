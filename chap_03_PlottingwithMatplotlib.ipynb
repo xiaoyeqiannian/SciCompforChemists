{
 "cells": [
  {
   "attachments": {},
   "cell_type": "markdown",
   "metadata": {},
   "source": [
    "# 第3章：使用Matplotlib绘图\n",
    "\n",
    "<a href=\"https://nb.bohrium.dp.tech/detail/1511559043?utm_source=ck-github\" target=\"_blank\"><img src=\"https://cdn.dp.tech/bohrium/web/static/images/open-in-bohrium.svg\" alt=\"Open In Bohrium\"/></a>"
   ]
  },
  {
   "attachments": {},
   "cell_type": "markdown",
   "metadata": {},
   "source": [
    "数据可视化是科学计算的重要部分，既用于分析数据，也用于支持结论。Python中有各种绘图库可用，但最突出的一个是matplotlib。matplotlib 是核心的 SciPy 库，因为它功能强大，可以生成用户可能需要的几乎任何图形。主要的缺点是它通常很冗长。也就是说，比非常基本的图形更复杂的东西可能需要几行样板代码来创建。本章介绍了如何使用 matplotlib 进行绘图。\n",
    "\n",
    "在创建第一个图形之前，我们必须首先导入 matplotlib，如下所示。这将导入 `pyplot` 模块，该模块完成了 matplotlib 中的许多基本绘图工作。虽然 `plt` 别名不是必需的，但它是 SciPy 社区的一种常见约定，强烈建议使用它，因为它可以为你节省大量的输入。"
   ]
  },
  {
   "cell_type": "code",
   "execution_count": null,
   "metadata": {},
   "outputs": [],
   "source": [
    "import matplotlib.pyplot as plt"
   ]
  },
  {
   "attachments": {},
   "cell_type": "markdown",
   "metadata": {},
   "source": [
    "在下面所有的示例中，在 Jupyter 笔记本中简单地调用一个绘图函数将自动使绘图出现在绘图函数下方的 Jupyter 笔记本中。然而，如果您选择在其他环境中使用 matplotlib，通常还需要执行以下 `plt.show()` 函数以使绘图显示出来。这也可以在 Jupyter 中完成，但本章其余部分未显示，因为 Jupyter 不需要它。"
   ]
  },
  {
   "cell_type": "code",
   "execution_count": null,
   "metadata": {},
   "outputs": [],
   "source": [
    "plt.show()"
   ]
  },
  {
   "attachments": {},
   "cell_type": "markdown",
   "metadata": {},
   "source": [
    "## 3.1 绘图基础\n",
    "\n",
    "在创建我们的第一个图形之前，我们需要一些数据来绘制，所以我们将从轨道径向波函数中生成数据点。下面的方程定义了氢原子的 3s 轨道波函数（$\\psi$）与玻尔原子半径（$r$）（以 $a_0$ 为单位）之间的关系。\n",
    "\n",
    "$$ \\psi_{3s} = \\frac{2}{27}\\sqrt{3}(2r^{2/9} - 2r + 3)e^{-r/3} $$\n",
    "\n",
    "我们将使用第 [2.1.2](2.1.2) 节介绍的列表理解方法在这条曲线上生成点。在下面的例子中，`r` 是离核的距离，`psi_3s` 是波函数。如果您选择绘制其他内容，只需创建两个长度相同的列表或元组，包含 $x$ 和 $y$ 值。"
   ]
  },
  {
   "cell_type": "code",
   "execution_count": null,
   "metadata": {},
   "outputs": [],
   "source": [
    "# create Python function for generating 3s radial wave function\n",
    "import math\n",
    "\n",
    "def orbital_3S(r):\n",
    "    wf = (2/27)*math.sqrt(3)*(2*r**2/9 - 2*r + 3)* math.exp(-\n",
    "         r/3)\n",
    "    return wf"
   ]
  },
  {
   "cell_type": "code",
   "execution_count": null,
   "metadata": {},
   "outputs": [],
   "source": [
    "# generate data to plot\n",
    "r = [num / 4 for num in range(1, 150, 3)]\n",
    "psi_3s = [orbital_3S(num) for num in r]"
   ]
  },
  {
   "attachments": {},
   "cell_type": "markdown",
   "metadata": {},
   "source": [
    "### 3.1.1 第一个图\n",
    "\n",
    "为了可视化 3s 波函数，我们将调用 `plot()` 函数，这是一个用于绘图的通用函数。将 `r` 和 `psi_3s` 数据分别作为 $x$ 和 $y$ 变量输入到它的位置参数中。"
   ]
  },
  {
   "cell_type": "code",
   "execution_count": null,
   "metadata": {},
   "outputs": [],
   "source": [
    "plt.plot(r, psi_3s, 'o')"
   ]
  },
  {
   "attachments": {},
   "cell_type": "markdown",
   "metadata": {},
   "source": [
    "```{tip}\n",
    "您可能已经注意到，图形上方有一行文字，看起来像是 `[<matplotlib.lines.Line2D at 0x7f83318383a0>]`。如果它让你不舒服，你可以通过在代码行的末尾加一个分号（`;`）或添加一个带有 `plt.show()` 的行来抑制它。\n",
    "```"
   ]
  },
  {
   "attachments": {},
   "cell_type": "markdown",
   "metadata": {},
   "source": [
    "默认情况下，matplotlib 使用蓝色作为默认颜色创建散点图。如果你不喜欢蓝色的圆圈，可以修改它。如果 `plot()` 函数只提供一个参数，matplotlib 会假定数据是 $y$ 值，并将它们与它们的索引一起绘制。"
   ]
  },
  {
   "attachments": {},
   "cell_type": "markdown",
   "metadata": {
    "tags": []
   },
   "source": [
    "### 3.1.2 标记和颜色\n",
    "\n",
    "要更改颜色和标记，您可以添加一些额外的参数：`marker`、`linestyle` 和 `color`。所有这些关键字参数都需要字符串。`marker` 参数允许用户从一系列标记（表 1）中选择。`linestyle` 参数（表 2）决定了线条是否实线或虚线的类型，`color` 参数（表 3）允许用户指定线条/标记的颜色。如果向 `linestyle` 或 `marker` 提供空字符串，则图中不包含线条或标记。请参阅 matplotlib 网站 以获取更完整的样式列表。\n",
    "\n",
    "**表 1** 常见的 Matplotlib 标记样式\n",
    "\n",
    "| 参数 | 描述 |\n",
    "|:-------: | :--------:  |\n",
    "| 'o'      |  圆圈 |\n",
    "| '*'    | 星星 |\n",
    "| 'p'    | 五边形 |\n",
    "| '^'    | 三角形 |\n",
    "| 's'    | 正方形   |\n",
    "\n",
    "\n",
    "**表 2** 常见的 Matplotlib 线条样式\n",
    "\n",
    "| 参数 | 描述 |\n",
    "|:-------: | :---------: |\n",
    "|  '-'   | 实线 |\n",
    "| '--'   | 虚线 |\n",
    "| '-.'   | 点划线 |\n",
    "| ':'    | 虚点线 |\n",
    "\n",
    "**表 3** 常见的 Matplotlib 颜色\n",
    "\n",
    "| 参数 | 描述 |\n",
    "|:------: | :--------: |\n",
    "| 'b' | 蓝色 |\n",
    "| 'r' | 红色  |\n",
    "| 'k' | 黑色（主键） |\n",
    "| 'g' | 绿色 |\n",
    "| 'm' | 洋红色 |\n",
    "| 'c' | 青色 |\n",
    "| 'y' | 黄色 |\n",
    "\n",
    "\n",
    "还有许多其他参数可以放在 plot 命令中。表 4 显示了一些常见的有用参数。\n",
    "\n",
    "**表 4** 一些常见的 plot 关键字参数\n",
    "\n",
    "| 参数 | 描述 |\n",
    "|:------:  | :--------:  |\n",
    "|`linestyle` 或 `ls` | 线条样式 |\n",
    "| `marker` | 标记样式 |\n",
    "|`linewidth` 或 `lw` | 线条宽度 |\n",
    "|`color` 或 `c` | 线条颜色 |\n",
    "|`markeredgecolor` 或 `mec` | 标记边缘颜色 |\n",
    "|`markerfacecolor` 或 `mfc` | 标记颜色 |\n",
    "|`markersize` 或 `ms` | 标记大小 |\n",
    "\n",
    "现在您已经看到了关键字参数方法，它允许对图进行微调，这里还有一个对于基本图形很有用的快捷方式。plot 函数可以接受第三个位置参数，这使得绘图速度更快。如果您放置一个带有标记样式和/或线条样式的字符串，您可以在没有完整关键字参数的情况下调整颜色和标记。这种方法不允许用户像关键字参数那样有很多控制，但它因简洁而受欢迎。"
   ]
  },
  {
   "cell_type": "code",
   "execution_count": null,
   "metadata": {},
   "outputs": [],
   "source": [
    "# ro = red circle\n",
    "plt.plot(r, psi_3s, 'ro');"
   ]
  },
  {
   "cell_type": "code",
   "execution_count": null,
   "metadata": {},
   "outputs": [],
   "source": [
    "# g.- = green solid line with dots along it\n",
    "plt.plot(r, psi_3s, 'g.-');"
   ]
  },
  {
   "attachments": {},
   "cell_type": "markdown",
   "metadata": {},
   "source": [
    "### 3.1.3 标签\n",
    "\n",
    "为图形的坐标轴添加标签通常很重要。这可以通过使用 `plt.xlabel()` 和 `plt.ylabel()` 函数来实现，这两个函数分别放在不同的行上，与 `plt.plot()` 函数一起使用。这两个函数都需要字符串参数。"
   ]
  },
  {
   "cell_type": "code",
   "execution_count": null,
   "metadata": {},
   "outputs": [],
   "source": [
    "plt.plot(r, psi_3s, 'go-')\n",
    "plt.xlabel('X Values')\n",
    "plt.ylabel('Y Values');"
   ]
  },
  {
   "attachments": {},
   "cell_type": "markdown",
   "metadata": {},
   "source": [
    "如果您希望在图像顶部添加一个标题，可以使用 `plt.title()` 参数来实现。如果要在坐标轴上添加符号，可以使用 Latex 命令来完成，这在下面的示例中有所体现，但关于 Latex 的讨论超出了本章的范围。"
   ]
  },
  {
   "cell_type": "code",
   "execution_count": null,
   "metadata": {},
   "outputs": [],
   "source": [
    "plt.plot(r, psi_3s, 'go-')\n",
    "plt.xlabel('Radius, Bohrs')\n",
    "plt.ylabel('Wave Function, $\\Psi$');"
   ]
  },
  {
   "cell_type": "code",
   "execution_count": null,
   "metadata": {},
   "outputs": [],
   "source": [
    "plt.plot(r, psi_3s, 'go-')\n",
    "plt.xlabel('Radius, Bohrs')\n",
    "plt.ylabel('Wave Function, $\\Psi$')\n",
    "plt.title('3S Radial Wave Function');"
   ]
  },
  {
   "attachments": {},
   "cell_type": "markdown",
   "metadata": {},
   "source": [
    "```{tip}\n",
    "有时，你可能希望反转坐标轴的方向，使编号按相反的方向进行（即从大到小）。分别添加额外的代码行 `plt.gca().invert_xaxis()` 和 `plt.gca().invert_yaxis()` 来反转 x 轴和 y 轴。\n",
    "```"
   ]
  },
  {
   "attachments": {},
   "cell_type": "markdown",
   "metadata": {},
   "source": [
    "### 3.1.4 图像尺寸\n",
    "\n",
    "如果您想在 Jupyter 笔记本中更改图像的大小或尺寸，可以通过 `plt.figure(figsize(width, height))` 来实现。请注意，此函数必须位于实际绘图函数的*上方*，而不能位于下方，才能修改图像。"
   ]
  },
  {
   "cell_type": "code",
   "execution_count": null,
   "metadata": {},
   "outputs": [],
   "source": [
    "plt.figure(figsize=(8,4))\n",
    "plt.plot(r, psi_3s, 'go-')\n",
    "plt.xlabel('Radius, Bohrs')\n",
    "plt.ylabel('Wave Function, $\\Psi$')\n",
    "plt.title('3S Radial Wave Function');"
   ]
  },
  {
   "attachments": {},
   "cell_type": "markdown",
   "metadata": {},
   "source": [
    "### 3.1.5 保存图像\n",
    "\n",
    "绝大多数使用 matplotlib 的场景是在 Jupyter 笔记本中生成图像。然而，有时需要将图像保存到文件中，以便用于手稿、报告或演示文稿。在这些情况下，您可以使用 `plt.savefig()` 函数保存您的图像，该函数需要一些参数。第一个且唯一必需的参数是输出文件的名称，以字符串的形式给出。在此之后，用户还可以使用 `dpi` 关键字参数选择分辨率（单位：每英寸点数）。最后，`plt.savefig()` 函数支持多种文件格式，包括 PNG, TIF, JPG, PDF, SVG 等。格式可以使用 `format` 参数选择，该参数也需要一个字符串，如果没有明确选择格式，matplotlib 默认为 PNG。"
   ]
  },
  {
   "cell_type": "code",
   "execution_count": null,
   "metadata": {},
   "outputs": [],
   "source": [
    "plt.plot(r, psi_3s, 'g.-')\n",
    "plt.savefig('my_image.png', format='PNG', dpi=600);"
   ]
  },
  {
   "attachments": {},
   "cell_type": "markdown",
   "metadata": {},
   "source": [
    "```{note}\n",
    "如果你没有看到输出的图像文件，请确保你正在查看当前工作目录，它很可能与你的 Jupyter 笔记本位于同一个文件夹中。请参阅[第 2.4.1 节](2.4.1)，了解如何使用 `os` 模块更改目录。\n",
    "```"
   ]
  },
  {
   "attachments": {},
   "cell_type": "markdown",
   "metadata": {},
   "source": [
    "## 3.2 绘图类型\n",
    "\n",
    "Matplotlib 支持各种绘图类型，包括散点图、条形图、直方图、饼图、茎图等等。下面介绍了一些最常见的绘图类型。有关其他绘图类型，请参阅 [matplotlib 官网](https://matplotlib.org/stable/plot_types/index.html)。"
   ]
  },
  {
   "attachments": {},
   "cell_type": "markdown",
   "metadata": {
    "tags": []
   },
   "source": [
    "### 3.2.1 条形图\n",
    "\n",
    "尽管条形图看起来与散点图有很大不同，但它们实际上非常相似。它们都显示相同的信息，只是表示 $y$ 值大小的标记的垂直位置被条形的高度所代替。使用 `plt.bar()` 函数生成条形图。与 `plt.plot()` 函数类似，条形图需要 $x$ 和 $y$ 值作为位置参数，如果只给出一个参数，函数将假定它是 $y$ 变量，并根据索引值绘制值。\n",
    "\n",
    "下面使用 [第 2.1.2 节](2.1.2) 中介绍的列表推导生成前十个化学元素的原子序数（`AN`），并与分子量（`MW`）一起绘制。"
   ]
  },
  {
   "cell_type": "code",
   "execution_count": null,
   "metadata": {},
   "outputs": [],
   "source": [
    "AN = [x + 1 for x in range(10)]\n",
    "MW = [1.01, 4.04, 6.94, 9.01, 10.81, 12.01, 14.01, 16.00, 19.00, 20.18]"
   ]
  },
  {
   "cell_type": "code",
   "execution_count": null,
   "metadata": {},
   "outputs": [],
   "source": [
    "plt.bar(AN, MW)\n",
    "plt.xlabel('Atomic Number')\n",
    "plt.ylabel('Molar Mass, g/mol');"
   ]
  },
  {
   "attachments": {},
   "cell_type": "markdown",
   "metadata": {},
   "source": [
    "条形图的特性可以像 matplotlib 中的其他类型的图表一样进行调整。您可能需要调整的主要参数是颜色和宽度，但还有一些其他参数如表 5 所示。颜色参数与之前的 `plt.plot()` 颜色一致。误差条参数可以采用单个值来显示所有数据点上的均匀误差条，也可以采用多元素对象（例如，列表或元组），包含每个数据点的不同不确定性范围。\n",
    "\n",
    "**表 5** 一些常见的 plot 关键字参数\n",
    "\n",
    "| 参数 | 描述 |\n",
    "|:-------: | :--------:  |\n",
    "| `width` | 条形宽度 |\n",
    "| `color` | 条形颜色 |\n",
    "| `edgecolor` | 条形边缘颜色 |\n",
    "| `xerr` | X 轴误差条 |\n",
    "| `yerr` | Y 轴误差条 |\n",
    "| `capsize` | 误差条的大小 |"
   ]
  },
  {
   "attachments": {},
   "cell_type": "markdown",
   "metadata": {
    "tags": []
   },
   "source": [
    "### 3.2.2 散点图\n",
    "\n",
    "我们已经使用 `plt.plot()` 函数生成了散点图，但也可以使用 `plt.scatter()` 函数创建散点图。后者部分冗余，但与 `plt.plot()` 不同，`plt.scatter()` 允许使用 `s=`、`marker=` 和 `c=` 关键字参数分别设置不同大小、形状和颜色的个别标记。请参阅 [3.1.2 节](3.1.2) 以获取一些可用的标记形状和颜色的简短列表。在 [进一步阅读](fr03) 一节中可以找到更完整列表的链接。\n",
    "\n",
    "在下面的示例中，我们加载了著名的 葡萄酒数据集，该数据集通过多种测量方式描述了葡萄酒样品，包括酒精含量、镁含量、颜色等...为了方便起见，我们将使用 scikit-learn 库加载数据集。然后绘制它，并将第三个属性包含到颜色 `c=` 参数中。"
   ]
  },
  {
   "cell_type": "code",
   "execution_count": null,
   "metadata": {
    "tags": [
     "remove-output"
    ]
   },
   "outputs": [],
   "source": [
    "from sklearn.datasets import load_wine\n",
    "wine = load_wine()\n",
    "wine = wine.data"
   ]
  },
  {
   "cell_type": "code",
   "execution_count": null,
   "metadata": {},
   "outputs": [],
   "source": [
    "plt.scatter(wine[:,0], wine[:,5], c=wine[:,12])\n",
    "plt.xlabel('Alcohol Content')\n",
    "plt.ylabel('Alkalinity of Ash')\n",
    "plt.colorbar();"
   ]
  },
  {
   "attachments": {},
   "cell_type": "markdown",
   "metadata": {},
   "source": [
    "在上面的示例中，酒精含量表示在 *x* 轴上，碱度表示在 *y* 轴上，丙氨酸含量通过标记的颜色显示。表示这些值的颜色范围称为 *colormap*，可以使用可选的 `cmap=` 参数更改它。请参阅 matplotlib colormap 页面 以获取可用的 colormap 列表。\n",
    "\n",
    "```{tip}\n",
    "在上面的示例中，较浅的颜色表示较高的值，而较深的颜色表示较低的值。如果您想颠倒颜色的顺序，只需在 colormap 名称后面加上 `_r`。例如，`cmap='viridis'` 变为 `cmap='viridis_r'`。\n",
    "```\n",
    "\n",
    "`plt.colorbar()` 提供了一个指导，说明颜色的含义，但在颜色条上添加一个文本标签（就像坐标轴一样）也是不错的。这可以通过将颜色条分配给一个变量，然后使用 `set_label()` 属性添加一个标签，如下面所示。"
   ]
  },
  {
   "cell_type": "code",
   "execution_count": null,
   "metadata": {},
   "outputs": [],
   "source": [
    "plt.scatter(wine[:,0], wine[:,5], c=wine[:,12], cmap='plasma_r')\n",
    "plt.xlabel('Alcohol Content')\n",
    "plt.ylabel('Alkalinity of Ash')\n",
    "\n",
    "cbar = plt.colorbar()\n",
    "cbar.set_label('Proline Content');"
   ]
  },
  {
   "attachments": {},
   "cell_type": "markdown",
   "metadata": {},
   "source": [
    "作为一个额外的例子，我们可以生成一个核素原子序数与中子数的图，并用每种核素的半衰期（以年为单位）的对数来给标记着色。"
   ]
  },
  {
   "attachments": {},
   "cell_type": "markdown",
   "metadata": {},
   "source": [
    "先准备数据文件"
   ]
  },
  {
   "cell_type": "code",
   "execution_count": null,
   "metadata": {},
   "outputs": [],
   "source": [
    "!wget https://bohrium-example.oss-cn-zhangjiakou.aliyuncs.com/notebook/SciCompforChemists/notebooks/chapter_03/data/nuclide.csv"
   ]
  },
  {
   "cell_type": "code",
   "execution_count": null,
   "metadata": {},
   "outputs": [],
   "source": [
    "import numpy as np\n",
    "nuc = np.genfromtxt('nuclide.csv', delimiter=',', skip_header=1)\n",
    "nuc"
   ]
  },
  {
   "cell_type": "code",
   "execution_count": null,
   "metadata": {},
   "outputs": [],
   "source": [
    "plt.scatter(nuc[:,0], nuc[:,1], s=1, marker='s', c=nuc[:,2], cmap='viridis')\n",
    "plt.xlabel('Atomic Number')\n",
    "plt.ylabel('Number of Neutrons')\n",
    "cbar = plt.colorbar()\n",
    "cbar.set_label('log(half-life, yrs)');"
   ]
  },
  {
   "attachments": {},
   "cell_type": "markdown",
   "metadata": {},
   "source": [
    "在上图中，我们遇到的问题之一是半衰期范围很大，两端的点相对较少。我们可以在下面显示的这些对数半衰期值的直方图中看到这一点。"
   ]
  },
  {
   "cell_type": "code",
   "execution_count": null,
   "metadata": {
    "tags": [
     "remove-input"
    ]
   },
   "outputs": [],
   "source": [
    "plt.hist(nuc[:,2], bins=20, edgecolor='k')\n",
    "plt.xlabel('Log Half-Life, yrs')\n",
    "plt.ylabel('Counts');"
   ]
  },
  {
   "attachments": {},
   "cell_type": "markdown",
   "metadata": {},
   "source": [
    "为了防止极端值的少数值有效地冲淡颜色，使其难以看到差异，我们可以使用 `plt.scatter()` 参数 `vmax=` 和 `vmin=` 来缩小 colormap 范围，如下所示。这样做的话，任何高于 `vmax=` 值的值将是固定的颜色，任何低于 `vmin=` 值的值将是固定的颜色。"
   ]
  },
  {
   "cell_type": "code",
   "execution_count": null,
   "metadata": {},
   "outputs": [],
   "source": [
    "plt.scatter(nuc[:,0], nuc[:,1], s=1, marker='s', c=nuc[:,2], \n",
    "            cmap='viridis', vmax=10, vmin=-10)\n",
    "plt.xlabel('Atomic Number')\n",
    "plt.ylabel('Number of Neutrons')\n",
    "cbar = plt.colorbar()\n",
    "cbar.set_label('log(half-life, yrs)');"
   ]
  },
  {
   "attachments": {},
   "cell_type": "markdown",
   "metadata": {
    "tags": []
   },
   "source": [
    "### 3.2.3 直方图\n",
    "\n",
    "直方图显示代表特定数据集中值频率的条形。与条形图不同，直方图中条形的宽度具有意义，因为每个条形表示落在特定范围内的 $x$ 值的数量。可以使用 `plt.hist()` 函数生成直方图，该函数有两个作用。首先，函数将提供的数据进行排序，将它们分成等距的组，称为 *bins*；其次，它绘制每个 bin 中的总数。例如，我们有一个列表 `Cp`，其中包含以 $J/g.^oC$ 为单位的各种金属的比热容，我们想要可视化比热容的分布。"
   ]
  },
  {
   "cell_type": "code",
   "execution_count": null,
   "metadata": {},
   "outputs": [],
   "source": [
    "Cp = [0.897, 0.207, 0.231, 0.231, 0.449, 0.385, 0.129, \n",
    "      0.412, 0.128, 1.02, 0.140, 0.233, 0.227, 0.523,\n",
    "      0.134, 0.387]\n",
    "\n",
    "plt.hist(Cp, bins=10, edgecolor='k')\n",
    "plt.xlabel('Heat Capacity, J/gC')\n",
    "plt.ylabel('Number of Metals');"
   ]
  },
  {
   "attachments": {},
   "cell_type": "markdown",
   "metadata": {},
   "source": [
    "从上图我们可以看到，大量的热容量位于 0.1-0.5 $J/g.^oC$ 区域，而在 0.6-0.8 $J/g.^oC$ 区域没有数据。\n",
    "\n",
    "`plt.hist(data, bins=)` 函数的两个主要参数是 `data` 和 `bins`。`bins` 参数可以是将数据排序的等距 bins 的数量，如上所示，也可以是下面的 bin 边缘列表。该函数会根据您的输入自动判断您提供的参数。"
   ]
  },
  {
   "cell_type": "code",
   "execution_count": null,
   "metadata": {},
   "outputs": [],
   "source": [
    "plt.hist(Cp, bins=[0, 0.2, 0.4, 0.6, 0.8, 1.0], edgecolor='k')\n",
    "plt.xlabel('Heat Capacity, J/gC')\n",
    "plt.ylabel('Number of Metals');"
   ]
  },
  {
   "attachments": {},
   "cell_type": "markdown",
   "metadata": {},
   "source": [
    "为直方图函数提供 bin 边缘为用户提供了更多的控制，但编写列表可能会很繁琐。作为替代方案，直方图函数还接受 `range()` 对象作为 bin 边缘。不幸的是，Python 的内置 `range()` 函数只生成具有整数步长的值。作为替代，您可以使用第 2 章的列表推导式，或者使用 NumPy 的 `np.arange()` 函数，该函数允许非整数步长。"
   ]
  },
  {
   "attachments": {},
   "cell_type": "markdown",
   "metadata": {},
   "source": [
    "### 3.2.4 其他绘图类型\n",
    "\n",
    "matplotlib 库中还有各种其他二维绘图类型，包括茎、阶梯、饼图、极坐标图、箱线图和等高线图。下表列出了一些值得了解的绘图类型以及创建它们的代码。有关更多详细信息，请参阅 matplotlib 网站。许多 Python 库网站（包括 matplotlib）都包含一个画廊页面，展示了可以使用该库完成的示例。建议在学习新库时浏览这些页面。"
   ]
  },
  {
   "cell_type": "code",
   "execution_count": null,
   "metadata": {},
   "outputs": [],
   "source": [
    "x = range(20)\n",
    "y = [math.sin(num) for num in x]\n",
    "plt.stem(x, y)\n",
    "plt.title('Sine Wave');"
   ]
  },
  {
   "attachments": {},
   "cell_type": "markdown",
   "metadata": {},
   "source": [
    "```{index} single: plotting; step plot\n",
    "```"
   ]
  },
  {
   "cell_type": "code",
   "execution_count": null,
   "metadata": {},
   "outputs": [],
   "source": [
    "AN = range(1, 11)\n",
    "mass_avg = [1.01, 4.00, 6.94, 9.01,\n",
    "10.81, 12.01, 14.01, 16.00, 19.00,\n",
    "20.18]\n",
    "plt.step(AN, mass_avg)\n",
    "plt.title('Average Atomic Mass')\n",
    "plt.xlabel('Atomic Number')\n",
    "plt.ylabel('Average Atomic Mass');"
   ]
  },
  {
   "attachments": {},
   "cell_type": "markdown",
   "metadata": {},
   "source": [
    "```{index} single: plotting; pie plot\n",
    "```"
   ]
  },
  {
   "cell_type": "code",
   "execution_count": null,
   "metadata": {},
   "outputs": [],
   "source": [
    "labels = ['Solids', 'Liquids','Gases']\n",
    "percents = (85.6, 2.2, 12.2)\n",
    "plt.title('Naturally Occurring Elements')\n",
    "plt.pie(percents, labels=labels,\n",
    "explode=(0, 0.2, 0))\n",
    "plt.axis('equal');"
   ]
  },
  {
   "cell_type": "code",
   "execution_count": null,
   "metadata": {},
   "outputs": [],
   "source": [
    "import numpy as np\n",
    "theta = np.arange(0, 360,0.1)\n",
    "r = [abs(0.5 * (3 * math.cos(num)**2\n",
    "-           1)) for num in theta]\n",
    "plt.polar(theta, r)\n",
    "plt.title(r'$d_{z^2} \\,$' + 'Orbital');"
   ]
  },
  {
   "attachments": {},
   "cell_type": "markdown",
   "metadata": {},
   "source": [
    "## 3.3 叠加绘图\n",
    "\n",
    "在同一坐标轴上绘制多个数据集通常是必要的，这可以用 matplotlib 的两种方式来实现。第一种方法是在同一个 Jupyter 代码单元格中调用绘图功能两次。Matplotlib 会自动将两个图放在同一个图上，并适当缩放以包含所有数据。如下所示，生成与之前的 3s 类似的 3p 氢轨道波函数的数据，因此现在可以在同一组坐标轴上绘制 3s 和 3p 轨道的波函数。"
   ]
  },
  {
   "cell_type": "code",
   "execution_count": null,
   "metadata": {},
   "outputs": [],
   "source": [
    "def orbital_3P(r):\n",
    "    wf = (math.sqrt(6)*r*(4-(2/3)*r)*math.e**(-r/3))/81\n",
    "    return wf"
   ]
  },
  {
   "cell_type": "code",
   "execution_count": null,
   "metadata": {},
   "outputs": [],
   "source": [
    "r = [num / 4 for num in range(1, 150, 3)]\n",
    "psi_3p = [orbital_3P(num) for num in r]"
   ]
  },
  {
   "cell_type": "code",
   "execution_count": null,
   "metadata": {},
   "outputs": [],
   "source": [
    "plt.plot(r, psi_3s)\n",
    "plt.plot(r, psi_3p)\n",
    "plt.xlabel('Radius, Bohrs')\n",
    "plt.ylabel('Wave Function');"
   ]
  },
  {
   "attachments": {},
   "cell_type": "markdown",
   "metadata": {},
   "source": [
    "第二种方法是在同一个绘图命令中包含两组数据，如下所示。Matplotlib 会假定每个新的非关键字参数是一组新的数据，并且位置参数与最近的数据相关联。"
   ]
  },
  {
   "cell_type": "code",
   "execution_count": null,
   "metadata": {},
   "outputs": [],
   "source": [
    "plt.plot(r, psi_3s, 'bo', r, psi_3p,'r^')\n",
    "plt.xlabel('Radius, Bohrs')\n",
    "plt.xlabel('Radius, Bohrs')\n",
    "plt.ylabel('Wave Function');"
   ]
  },
  {
   "attachments": {},
   "cell_type": "markdown",
   "metadata": {},
   "source": [
    "在上面的第二个图中，`r`、`psi_3s`、`'bo'` 是第一组数据的数据和样式，而 `r`、`psi_3p`、`'r^'` 是第二组数据的数据和绘图样式。\n",
    "\n",
    "一个多图绘制中很快出现的问题是识别哪些符号属于哪些数据。Matplotlib 允许用户向绘图中添加图例。用户首先需要使用 `label=` 关键字参数为每个数据集提供一个标签。最后，调用 `plt.legend()` 会在图上显示标签。默认情况下，matplotlib 会将图例放在它认为最佳的位置，但可以通过添加关键字 `loc=` 参数来覆盖此行为。关于位置参数的完整列表可以在[matplotlib 网站](https://matplotlib.org/api/_as_gen/matplotlib.pyplot.legend.html)上找到。"
   ]
  },
  {
   "cell_type": "code",
   "execution_count": null,
   "metadata": {},
   "outputs": [],
   "source": [
    "plt.plot(r, psi_3s, label='3s orbital')\n",
    "plt.plot(r, psi_3p, label='3p orbital')\n",
    "plt.xlabel('Radius, Bohrs')\n",
    "plt.ylabel('Wave Function')\n",
    "plt.legend();"
   ]
  },
  {
   "attachments": {},
   "cell_type": "markdown",
   "metadata": {},
   "source": [
    "## 3.4 多图绘制\n",
    "\n",
    "要在同一个图中生成多个独立的绘图，需要更多的代码行来描述图的尺寸以及各个绘图的位置。一旦你习惯了，这是相当合理的。下面概述了生成多图绘制的两种常见方法。第一种方法稍微快一点，但是第二种方法无疑更强大，可以让用户使用额外的功能。无论你选择采用哪种方法，只需知道你可能会时常看到另一种方法，因为两种方法都很常见。"
   ]
  },
  {
   "attachments": {},
   "cell_type": "markdown",
   "metadata": {},
   "source": [
    "### 3.4.1 第一种方法\n",
    "\n",
    "在第一种方法中，我们首先需要使用 `plt.figure()` 命令生成图。对于每个子图，我们首先需要调用 `plt.subplot(rows, columns, plot_number)`。前两个值是图中的行数和列数，第三个数是指你正在引用的子图。例如，我们将生成一个包含两个并排绘图的图。这是一个一行两列的图（即一行两列）。因此，所有子图都将用 `plt.subplot(1, 2, plot_number)` 来定义。`plot_number` 表示子图，第一个子图为1，第二个子图为2。编号总是从左到右，从上到下。"
   ]
  },
  {
   "cell_type": "code",
   "execution_count": null,
   "metadata": {},
   "outputs": [],
   "source": [
    "plt.figure()\n",
    "\n",
    "plt.subplot(1,2,1) # first subplot\n",
    "plt.plot(r, psi_3s)\n",
    "plt.hlines(0, 0, 35, linestyle='dashed', color='C1')\n",
    "plt.xlabel('Radius, Bohrs')\n",
    "plt.title('3s Orbital')\n",
    "\n",
    "plt.subplot(1,2,2) # second subplot\n",
    "plt.plot(r, psi_3p)\n",
    "plt.hlines(0, 0, 35, linestyle='dashed', color='C1')\n",
    "plt.xlabel('Radius, Bohrs')\n",
    "plt.title('3p Orbital');"
   ]
  },
  {
   "attachments": {},
   "cell_type": "markdown",
   "metadata": {},
   "source": [
    "如果你不喜欢你的绘图的尺寸，仍然可以使用 `figure()` 函数中的 `figsize=(width, height)` 参数来更改它们，如下所示。"
   ]
  },
  {
   "cell_type": "code",
   "execution_count": null,
   "metadata": {},
   "outputs": [],
   "source": [
    "plt.figure(figsize=(12,4))\n",
    "\n",
    "plt.subplot(1,2,1) # first subplot\n",
    "plt.plot(r, psi_3s)\n",
    "plt.hlines(0, 0, 35, linestyle='dashed', color='C1')\n",
    "plt.xlabel('Radius, Bohrs')\n",
    "plt.title('3s Orbital')\n",
    "\n",
    "plt.subplot(1,2,2) # second subplot\n",
    "plt.plot(r, psi_3p)\n",
    "plt.hlines(0, 0, 35, linestyle='dashed', color='C1')\n",
    "plt.xlabel('Radius, Bohrs')\n",
    "plt.title('3p Orbital');"
   ]
  },
  {
   "attachments": {},
   "cell_type": "markdown",
   "metadata": {},
   "source": [
    "`plt.subplot()` 命令中的值可能看起来多余。为什么图的尺寸要反复定义，而不是只定义一次？答案是可以在同一图中创建具有不同尺寸的子图（图 1）。在这个例子中，顶部子图尺寸被创建得好像它是 2×1 图中的第一个子图。底部的两个子图尺寸被创建得好像它们是 2×2 图中的第三个和第四个子图。\n",
    "\n",
    "![](https://bohrium-example.oss-cn-zhangjiakou.aliyuncs.com/notebook/SciCompforChemists/notebooks/chapter_03/img/multifigure.svg)\n",
    "\n",
    "**图 1** 具有不同尺寸子图的多图绘制（右图）描述每个子图尺寸，就好像它是具有相同尺寸子图的绘图的一部分（左图）。"
   ]
  },
  {
   "attachments": {},
   "cell_type": "markdown",
   "metadata": {},
   "source": [
    "在以下示例中，来自[*Nat. Chem. Biol.* **2016,** 12, 46-50](https://doi.org/10.1038/nchembio.1976)的氢酶酶中包含的二面角数据非常重要并且已经展示出来。顶部的图显示了ψ（$\\psi$）角和φ（$\\phi$）角之间的关系，而底部的两个图则使用直方图绘制展示了ψ角和φ角的分布。"
   ]
  },
  {
   "cell_type": "code",
   "execution_count": null,
   "metadata": {},
   "outputs": [],
   "source": [
    "!wget https://bohrium-example.oss-cn-zhangjiakou.aliyuncs.com/notebook/SciCompforChemists/notebooks/chapter_03/data/hydrogenase_5a4m_phipsi.csv"
   ]
  },
  {
   "cell_type": "code",
   "execution_count": null,
   "metadata": {},
   "outputs": [],
   "source": [
    "rama = np.genfromtxt('data/hydrogenase_5a4m_phipsi.csv', \n",
    "                     delimiter=',', skip_header=1)\n",
    "\n",
    "psi = rama[:,0]\n",
    "phi = rama[:,1]"
   ]
  },
  {
   "cell_type": "code",
   "execution_count": null,
   "metadata": {},
   "outputs": [],
   "source": [
    "plt.figure(figsize=(10,6))\n",
    "\n",
    "plt.subplot(2,1,1)\n",
    "plt.plot(phi, psi, '.', markersize=8)\n",
    "plt.xlim(-180, 180)\n",
    "plt.ylim(-180, 180)\n",
    "plt.xlabel('$\\phi, degrees$', fontsize=15)\n",
    "plt.ylabel('$\\psi, degrees$', fontsize=15)\n",
    "plt.title('Ramachandran Plot')\n",
    "\n",
    "plt.subplot(2,2,3)\n",
    "plt.hist(phi[1:], edgecolor='k')\n",
    "plt.xlabel('$\\phi, degrees$')\n",
    "plt.ylabel('Count')\n",
    "plt.title('$\\phi \\, Angles$')\n",
    "\n",
    "plt.subplot(2,2,4)\n",
    "plt.hist(psi[:-1], edgecolor='k')\n",
    "plt.xlabel('$\\psi, degrees$')\n",
    "plt.ylabel('Count')\n",
    "plt.title('$\\psi \\, Angles$')\n",
    "\n",
    "plt.tight_layout();"
   ]
  },
  {
   "attachments": {},
   "cell_type": "markdown",
   "metadata": {},
   "source": [
    "```{tip}\n",
    "有时候，多个子图的标题和坐标轴标签会无意中重叠。如果发生这种情况，只需在最后添加 `plt.tight_layout()` 即可解决这个问题。\n",
    "```"
   ]
  },
  {
   "attachments": {},
   "cell_type": "markdown",
   "metadata": {},
   "source": [
    "### 3.4.2 第二种方法\n",
    "\n",
    "第二种方法与第一种方法有些相似，只是它更明确地创建并链接了子图（称为轴）。要创建带有子图的图，我们首先需要再次使用 `plt.figure()` 命令生成总体图，并且还需要将其附加到一个变量，以便我们可以明确地将轴分配给它。要创建每个子图，请使用 `add_subplot(rows, columns, plot_number)` 命令。`add_subplot()` 命令中的参数与`plt.subplot()` 相同。创建轴作为图的一部分后，如下所示，调用您的绘图功能，前面加上轴变量名。\n",
    "\n",
    "在此方法中，一个明显的区别是自定义功能的函数通常以 `set_` 为前缀，如 `set_title()`、`set_xlim()` 或 `set_ylabel()`。"
   ]
  },
  {
   "cell_type": "code",
   "execution_count": null,
   "metadata": {},
   "outputs": [],
   "source": [
    "fig = plt.figure(figsize=(8,6))\n",
    "\n",
    "ax1 = fig.add_subplot(2,1,1)\n",
    "ax1.plot(r, psi_3s)\n",
    "ax1.hlines(0, 0, 35, linestyle='dashed', color='C1')\n",
    "ax1.set_title('3s Orbital')\n",
    "ax1.set_xlabel('Radius, $a_u$')\n",
    "\n",
    "\n",
    "ax2 = fig.add_subplot(2,1,2)\n",
    "ax2.plot(r, psi_3p)\n",
    "ax2.hlines(0, 0, 35, linestyle='dashed', color='C1')\n",
    "ax2.set_title('3p Orbital')\n",
    "ax2.set_xlabel('Radius, $a_u$')\n",
    "\n",
    "plt.tight_layout();"
   ]
  },
  {
   "attachments": {},
   "cell_type": "markdown",
   "metadata": {},
   "source": [
    "## 3.5 三维绘图\n",
    "\n",
    "要进行三维绘图，我们将使用 [第 3.4.2 节](3.4.2) 中概述的方法，并添加两个补充内容。首先，添加 `from mpl_toolkits.mplot3d import Axes3D`，如下所示。其次，在 `plt.figure()` 命令中添加 `projection='3D'` 以使绘图变为三维。之后，它与上面的二维图类似，只是提供了 $x$、$y$ 和 $z$ 数据。\n",
    "\n",
    "在以下示例中，我们将导入 $C_{60}$ 球状分子的 $xyz$ 坐标，并绘制 3D 中的碳原子位置。"
   ]
  },
  {
   "cell_type": "code",
   "execution_count": null,
   "metadata": {},
   "outputs": [],
   "source": [
    "from mpl_toolkits.mplot3d import Axes3D "
   ]
  },
  {
   "cell_type": "code",
   "execution_count": null,
   "metadata": {},
   "outputs": [],
   "source": [
    "C60 = np.genfromtxt('data/C60.csv', delimiter=',', skip_header=1)\n",
    "x, y, z = C60[:,0], C60[:,1], C60[:,2]"
   ]
  },
  {
   "cell_type": "code",
   "execution_count": null,
   "metadata": {},
   "outputs": [],
   "source": [
    "fig = plt.figure(figsize = (10,6))\n",
    "\n",
    "ax = fig.add_subplot(1,1,1, projection='3d')\n",
    "ax.plot(x, y, z, 'o')\n",
    "\n",
    "ax.set_xlabel('X axis')\n",
    "ax.set_ylabel('Y axis')\n",
    "ax.set_zlabel('Z axis');"
   ]
  },
  {
   "attachments": {},
   "cell_type": "markdown",
   "metadata": {},
   "source": [
    "## 3.6 曲面图\n",
    "\n",
    "上面的 3D 图仅仅是三维空间中的散点图。将这些点连接起来描述 3D 空间中的曲面通常是很有用的，这可以用于能量曲面或原子轨道形状等应用。我们将再次从 `mpl_toolkits.mplot3d` 中导入 `Axes3D`，就像在 [3.5](3.5) 节中那样，但是我们还需要生成一个网格以创建曲面图。网格只是将 $x$ 和 $y$ 轴值扩展为 2D 数组。下面给出了一个简单的示例，其中 $x$ 和 $y$ 轴是从 0 $\\rightarrow$ 8 的整数。在左侧的网格中，值表示每个点相对于 $x$ 轴的位置，右侧的网格同样表示每个点相对于 $y$ 轴的位置。\n",
    "\n",
    "![](https://bohrium-example.oss-cn-zhangjiakou.aliyuncs.com/notebook/SciCompforChemists/notebooks/chapter_03/img/xygrid.svg)\n",
    "\n",
    "我们将使用 NumPy 来生成这些网格作为 NumPy 数组。如果您还没有接触过 NumPy，您仍然可以在此示例中跟着进行，而无需了解数组是如何运作的，或者您可以阅读第 4 章，然后再回到这个主题。对于那些熟悉 NumPy 的人来说，由于这两个网格/数组具有相同的维度，所有数学运算都是按位置进行的，以生成与前两个相同维度的第三个数组。例如，如果我们要取上面两个网格的平方和，我们将得到以下网格。\n",
    "\n",
    "$$ z = x^2 + y^2 $$\n",
    "\n",
    "![](https://bohrium-example.oss-cn-zhangjiakou.aliyuncs.com/notebook/SciCompforChemists/notebooks/chapter_03/img/zgrid.svg)\n",
    "\n",
    "注意，$z$ 网格上的每个值都是来自 $x$ 和 $y$ 网格上等效位置的平方值之和，例如，左下角的值是 64，因为它是 64 和 0 的和。\n",
    "\n",
    "要生成网格，我们将使用 NumPy 的 `np.meshgrid()` 函数。它需要输入所需的 $x$ 和 $y$ 轴值作为列表、范围对象或 NumPy 数组。`np.meshgrid()` 函数的输出是两个数组 - 分别是 $x$ 网格和 $y$ 网格。"
   ]
  },
  {
   "cell_type": "code",
   "execution_count": null,
   "metadata": {},
   "outputs": [],
   "source": [
    "import numpy as np\n",
    "\n",
    "x = np.arange(-10, 10)\n",
    "y = np.arange(-10, 10)\n",
    "X, Y = np.meshgrid(x, y)"
   ]
  },
  {
   "cell_type": "code",
   "execution_count": null,
   "metadata": {},
   "outputs": [],
   "source": [
    "Z = 1 - X**2 - Y**2"
   ]
  },
  {
   "attachments": {},
   "cell_type": "markdown",
   "metadata": {},
   "source": [
    "现在绘制曲面。我们将使用 `plot_surface()` 函数，它需要将 `X`、`Y`、和 `Z` 网格作为参数。作为可选参数，您可以指定一个颜色映射（`cmap`）。颜色映射是表示值的一系列颜色或颜色阴影。matplotlib 的默认值为 `viridis`，但您可以将其更改为 matplotlib 提供的各种颜色映射之一。有关颜色映射的更多信息，请参见[matplotlib 网站](https://matplotlib.org/stable/gallery/color/colormap_reference.html)。"
   ]
  },
  {
   "cell_type": "code",
   "execution_count": null,
   "metadata": {},
   "outputs": [],
   "source": [
    "from mpl_toolkits.mplot3d import Axes3D\n",
    " \n",
    "fig = plt.figure(figsize=(10,6))\n",
    "\n",
    "ax = fig.add_subplot(1,1,1, projection='3d')\n",
    "ax.plot_surface(X, Y, Z, cmap='viridis')\n",
    "\n",
    "ax.set_xlabel('X axis')\n",
    "ax.set_ylabel('Y axis')\n",
    "ax.set_zlabel('Z axis');"
   ]
  },
  {
   "attachments": {},
   "cell_type": "markdown",
   "metadata": {},
   "source": [
    "作为一个更具化学性的例子，我们可以通过以下方程绘制二维粒子在盒子中的驻波，其中 $n_x$ 和 $n_y$ 是沿每个轴的主量子数，$L$ 是盒子的长度。\n",
    "\n",
    "$$ \\psi(x,y) = (2/L)sin(n_x \\pi x/L)sin(n_y \\pi y/L) $$\n",
    "\n",
    "我们将选择 $L$ = 1, $n_x$ = 2, 和 $n_y$ = 1。同样，生成一个网格并从 $x$ 和 $y$ 值计算出一个高度值。"
   ]
  },
  {
   "cell_type": "code",
   "execution_count": null,
   "metadata": {},
   "outputs": [],
   "source": [
    "L = 1\n",
    "nx = 2\n",
    "ny = 1\n",
    "\n",
    "x = np.linspace(0, L, 20)\n",
    "y = np.linspace(0, L, 20)\n",
    "X, Y = np.meshgrid(x,y)"
   ]
  },
  {
   "cell_type": "code",
   "execution_count": null,
   "metadata": {},
   "outputs": [],
   "source": [
    "def wave(x, y):\n",
    "    psi = (2/L) * np.sin(nx*np.pi*X/L) * np.sin(ny*np.pi*Y/L)\n",
    "    return psi"
   ]
  },
  {
   "cell_type": "code",
   "execution_count": null,
   "metadata": {},
   "outputs": [],
   "source": [
    "fig = plt.figure(figsize=(10,6))\n",
    "ax = fig.add_subplot(111, projection='3d')\n",
    "ax.plot_surface(X, Y, wave(X, Y), cmap='viridis');"
   ]
  },
  {
   "attachments": {},
   "cell_type": "markdown",
   "metadata": {},
   "source": [
    "鼓励你增加 $n_x$ 和 $n_y$ 的值，看看曲面图如何变化。"
   ]
  },
  {
   "attachments": {},
   "cell_type": "markdown",
   "metadata": {},
   "source": [
    "## 练习"
   ]
  },
  {
   "attachments": {},
   "cell_type": "markdown",
   "metadata": {},
   "source": [
    "1. 在一个可扩展的容器中，将1.00 mol的He(g)在298 K下的压力和体积之间的关系可视化，当其从1 L增加到20 L时。R = 0.08206 L·atm/mol·K。这需要您生成值并使用以下方程进行计算。\n",
    "\n",
    "    $$ PV = nRT  $$\n",
    "    \n",
    "2. 绘制前五个卤素的电负性与原子序数的关系图，并根据元素的原子半径使标记的大小或颜色。您需要查找这些值，它们应该可以在大多数通用化学教科书中找到。如果你手头没有这样的书，你还可以在[OpenStax](https://openstax.org/)等在线资源中找到这些值的免费开放化学教材。\n",
    "\n",
    "3. 以下函数是三明治定理的一个例子，该定理通过知道函数 $g(x)$ 在相关域内的范围在 $f(x)$ 和 $h(x)$ 之间来帮助确定函数的极限。在同一坐标轴上绘制所有三个函数，以显示在 x 为 -50 至 50 时，f(x) $\\leq$ g(x) $\\leq$ h(x)。确保包含图例。\n",
    "\n",
    "    $$ f(x) = x^2 \\quad g(x) = x^2 sin(x) \\quad h(x) = -x^2 $$\n",
    "\n",
    "4. 根据适当的积分速率定律，绘制以下基本步骤中 A 的浓度随时间变化的图像，如果 $k$ = 0.12 $M^{-1}s^{-1}$。\n",
    "\n",
    "    $$ 2 A \\rightarrow P $$\n",
    "\n",
    "5. 导入包含气相色谱(GC)轨迹的[**gc_trace.csv**](https://bohrium-example.oss-cn-zhangjiakou.aliyuncs.com/notebook/SciCompforChemists/notebooks/chapter_03/data/gc_trace.csv)文件，并使用线图绘制强度（*y* 轴）与时间（*x* 轴）的关系。确保标记轴。\n",
    "   \n",
    "\n",
    "6. 导入质谱文件[**ms_bromobenzene.csv**](https://bohrium-example.oss-cn-zhangjiakou.aliyuncs.com/notebook/SciCompforChemists/notebooks/chapter_03/data/ms_bromobenzene.csv)，并使用茎图进行可视化，其中 *m/z* 在 *x* 轴上，强度在 *y* 轴上。提示：可以使用 `markerfmt='None'` 删除线顶部的点。\n",
    "\n",
    "7. 地球大气层由78%的$N_2$、21%的$O_2$和1%的其他气体组成。用饼图表示这些数据，并像[第3.2.4节](3.2.4)中那样使最后1%的切片突出饼图。\n",
    "\n",
    "8. 创建一个直方图来检查下面生成的值的分布。\n",
    "        \n",
    "    ~~~python\n",
    "    import random\n",
    "    rdn = [random.random() for value in range(1000)]\n",
    "    ~~~\n",
    "\n",
    "9.  咖啡因在$CDCl_3$中的$^1H$ NMR光谱由以下化学位移和相对强度的四个单峰组成。使用[茎图](3.2.4)来可视化这些数据。提示：可以使用`markerfmt='None'` 删除线顶部的点。\n",
    "    ~~~python\n",
    "    ppm = [7.52, 4.00, 3.60, 3.44]\n",
    "    intensity = [1.52, 3.90, 5.74, 5.78]\n",
    "    ~~~\n",
    "\n",
    "10. 下表列出了镍膦催化剂结合和分裂$H_2$(g)过程中每个步骤的计算自由能。使用除线图或散点图之外的绘图类型来可视化反应过程中的能量。数据来源于 [*Inorg. Chem.* **2016,** 55, 445−460](https://doi.org/10.1021/acs.inorgchem.5b02262).\n",
    "\n",
    "    | Step  |  Relative Free Energy (kcal/mol) |\n",
    "    |:-----:|:--------------------------------:|\n",
    "    |   1   |           0.0                    |\n",
    "    |   2   |           11.6                   |\n",
    "    |   3   |           9.8                    |\n",
    "    |   4   |           13.4                   |\n",
    "    |   5   |           5.8                    |\n",
    "    |   6   |           8.3                    |\n",
    "    |   7   |           2.7                    |\n",
    "\n",
    "11. 生成两个并排的图，分别显示前十个周期表元素的原子半径和第一电离能与原子序数之间的关系。这些数据应该可以在互联网上或任何通用化学教材中找到，包括[OpenStax](https://openstax.org/)中的周期趋势章节。在两个图上都添加标题以及适当的轴标签。\n",
    "\n",
    "12. 使用以下方程和参数生成一个驻波表面图（类似于[第3.6节](3.6)末尾的那个）：$L$ = 1，$n_x$ = 2，$n_y$ = 2。\n",
    "\n",
    "    $$ \\Psi(x,y) = (2/L) \\, sin(n_x\\pi x/L) \\, sin(n_y \\pi / L) $$\n",
    "    \n",
    "13. 加载数据文件夹中的[**amine_bp.csv**](https://bohrium-example.oss-cn-zhangjiakou.aliyuncs.com/notebook/SciCompforChemists/notebooks/chapter_03/data/amine_bp.csv)文件，该文件包含一级、二级和三级胺的沸点以及每种胺中的碳原子数量。绘制沸点（$x$轴）与碳原子数量（$y$轴）之间的关系，分别针对每个胺的度数。您的图应该有三个不同的趋势，每个度数一个，用不同的颜色和不同的标记表示。在您的图上包含一个图例，表示哪些数据点代表哪个度数的胺。"
   ]
  },
  {
   "attachments": {},
   "cell_type": "markdown",
   "metadata": {},
   "source": [
    "## 参考\n",
    "[https://github.com/weisscharlesj/SciCompforChemists](https://github.com/weisscharlesj/SciCompforChemists)"
   ]
  }
 ],
 "metadata": {
  "kernelspec": {
   "display_name": "Python 3 (ipykernel)",
   "language": "python",
   "name": "python3"
  },
  "language_info": {
   "codemirror_mode": {
    "name": "ipython",
    "version": 3
   },
   "file_extension": ".py",
   "mimetype": "text/x-python",
   "name": "python",
   "nbconvert_exporter": "python",
   "pygments_lexer": "ipython3",
   "version": "3.8.11"
  }
 },
 "nbformat": 4,
 "nbformat_minor": 4
}
